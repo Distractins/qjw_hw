{
 "cells": [
  {
   "cell_type": "markdown",
   "metadata": {},
   "source": [
    "## algorithm design and anlysis-2025 spring  homework 1 \n",
    "**Deadline**：2025.5.14\n",
    "\n",
    "**name**:\n",
    "\n",
    "\n",
    "note：\n",
    "---\n",
    "1. 带有\\*的题目，申请免上课的同学，必须完成，其他同学选作；\n",
    "2. 请独立完成，如求助了他人或者大模型，请著明，并且不可省略算法分析部分；\n",
    "4. 如若作答有雷同，全部取消成绩；\n",
    "3. 需要书面作答的题目，可以通过引用图片的形式添加，但是注意上传项目时包含所引用的图片的源文件；\n",
    "4. $log_n$ 默认表示$log_2{n}$;"
   ]
  },
  {
   "cell_type": "markdown",
   "metadata": {},
   "source": [
    "## 问题 1\n",
    "\n",
    "对于下面的每一对表达式(A, B), A是否能表示为B的 $\\Theta, \\Omega ,O$形式. 请注意, 这些关系中的零个、一个或多个可能成立。列出所有正确的。经常发生一些学生会,把指示写错, 所以请把关系写完整, 例如: $A = O(B),  A =\\Theta(B)$, 或$A = \\Omega(B)$。\n",
    "\n",
    "1. $A=n^2-100n, B=n^2$\n",
    "2. $A=logn, B=log_{1.2}n$\n",
    "3. $A=3^{2n}, B=2^{4n}$\n",
    "4. $A=2^{logn}, B=n$\n",
    "5. $A=\\log{\\log}{n},B=10^{10^{100}}$"
   ]
  },
  {
   "cell_type": "markdown",
   "metadata": {},
   "source": [
    "![figure](./fig/hw1q1.png)\n"
   ]
  },
  {
   "cell_type": "markdown",
   "metadata": {},
   "source": [
    "## 问题 2：\n",
    "\n",
    "假设有函数 $f$ 和 $g$ 使得 $f(n)$ = $O(g(n))$ 对于下面的每一个陈述, 请判断对错, 如果正确请给出证明, 否则请给出一个反例。\n",
    "\n",
    "1. $\\log{f(n)}$ = $O(\\log(1+g(n)))$\n",
    "2. $3^{f(n)}=O(3^{g(n)})$\n",
    "3. $(f(n))^2=O((g(n))^2)$ "
   ]
  },
  {
   "cell_type": "markdown",
   "metadata": {},
   "source": [
    "![figure](./fig/hw1q2.png)\n"
   ]
  },
  {
   "cell_type": "markdown",
   "metadata": {},
   "source": [
    "## 问题 3\n",
    "\n",
    "根据下列递归公式, 计算下列 $T(n)$ 对应的的渐近上界。要求所求的边界尽可能的紧（tight）, 请写明步骤。\n",
    "\n",
    "1. $T(1)=1; T(n)=T(n/4)+1$ for $n>1$\n",
    "2. $T(1)=1;T(n)=3T(n/3)+n^2$ for $n>1$\n",
    "3. $T(1)=1;T(n)=T(2n/3)+1$ for $n>1$\n",
    "4. $T(1)=1;T(n)=5T(n/4)+n$ for $n>1$\n",
    "5. $T(n)=1 \\ for\\ n \\le 2 ; T(n)=T(\\sqrt{n})+1 \\ for \\ n>2$"
   ]
  },
  {
   "cell_type": "markdown",
   "metadata": {},
   "source": [
    "![figure](./fig/hw1q3-1.png)\n",
    "\n",
    "![figure](./fig/hw1q3-2.png)\n",
    "\n",
    "![figure](./fig/hw1q3-3.png)\n",
    "\n",
    "![figure](./fig/hw1q3-4.png)"
   ]
  },
  {
   "cell_type": "markdown",
   "metadata": {},
   "source": [
    "## 问题 4：\n",
    "\n",
    "给定一个包含n个元素的数组 `profits` , 它的第 `i` 个元素 `profits[i]` 表示一支股票第 `i` 天的**收益**（正数表示涨, 负数表示跌）。你只能选择 **某一天** 买入这只股票, 并选择在 **未来的某一个不同的日子** 卖出该股票。\n",
    "\n",
    "1. 设计一个算法来计算你所能获取的最大利润和对应买入和卖出的日期。请分析算法方案, 计算其时间复杂度, 并且使用python编程实现该算法。\n",
    "\n",
    "2. \\* 设计一个时间复杂度为 $O(n)$的算法实现该算法\n",
    "\n",
    "e.g. :\n",
    "---\n",
    "profits=[3,2,1,-7,5,2,-1,3,-1], 第5天买入, 第8天卖出, 收益最大：9\n",
    "\n"
   ]
  },
  {
   "cell_type": "markdown",
   "metadata": {},
   "source": [
    "idea:一开始检查一下传入的收益是否为空，然后初始化一些变量，最大利润需要设置为负无穷，防止一开始的利润为负而报错。current_sum用来记录当前利润总和，start用来表示起始位置，max_start和max_end表示最大利润的起始和结束位置。然后循环遍历利润列表，计算出当前利润总和，当它大于最大利润的时候就更新max_sum，并且更新位置。如果当前利润小于0就把起始位置往下移动一位，并且重置当前利润，再重新开始计算然后再进行比较。如果一直到起始位置和结束位置为同一个地方的时候，说明当前是亏损的就返回0 -1 -1."
   ]
  },
  {
   "cell_type": "code",
   "execution_count": 3,
   "metadata": {},
   "outputs": [
    {
     "name": "stdout",
     "output_type": "stream",
     "text": [
      "第 5 天买入, 第 8 天卖出, 收益最大：9\n"
     ]
    }
   ],
   "source": [
    "def max_profit(profits):\n",
    "    if not profits:\n",
    "        return 0, -1, -1\n",
    "\n",
    "    max_sum = float('-inf')\n",
    "    current_sum = 0\n",
    "    start = 0\n",
    "    max_start = 0\n",
    "    max_end = 0\n",
    "\n",
    "    for i in range(len(profits)):\n",
    "        current_sum = max(profits[i], current_sum + profits[i])\n",
    "        if current_sum > max_sum:\n",
    "            max_sum = current_sum\n",
    "            max_start = start\n",
    "            max_end = i\n",
    "        if current_sum < 0:\n",
    "            start = i + 1\n",
    "            current_sum = 0\n",
    "\n",
    "\n",
    "    if max_start == max_end:\n",
    "        return 0, -1, -1\n",
    "\n",
    "    return max_sum, max_start, max_end\n",
    "\n",
    "\n",
    "profits = [3, 2, 1, -7, 5, 2, -1, 3, -1]\n",
    "max_profit_value, buy_day, sell_day = max_profit(profits)\n",
    "print(f\"第 {buy_day + 1} 天买入, 第 {sell_day + 1} 天卖出, 收益最大：{max_profit_value}\")"
   ]
  },
  {
   "cell_type": "code",
   "execution_count": null,
   "metadata": {},
   "outputs": [],
   "source": [
    "# an algorithm with O(n)"
   ]
  },
  {
   "cell_type": "markdown",
   "metadata": {},
   "source": [
    "## 问题 5：\n",
    "\n",
    "观察下方的分治算法（divide-and-conquer algorithm）的伪代码, 回答下面问题\n",
    "\n",
    "```latex\n",
    "DoSomething(A,p,r)\n",
    "-----\n",
    "n := r-p+1\n",
    "if n=2 and A[p]>A[r] then\n",
    "    swap A[p] and A[r]\n",
    "else if n >= 3 then\n",
    "    m = ceil(2n/3)\n",
    "    DoSomething(A,p,p+m-1)\n",
    "    DoSomething(A,r-m+1,r)\n",
    "    DoSomething(A,p,p+m-1)  \n",
    "    \n",
    "---\n",
    "first call: DoSomething(A,1,n)\n",
    "```\n",
    "\n",
    "note：$ceil(2n/3)=\\left\\lceil {2n/3} \\right\\rceil$；$:=$ 表示赋值, 等价于 $\\to$；A是一个包含n的整数元素的数组, \n",
    "\n",
    "1. 写出该算法时间复杂度的递归公式, 并求解其对应的渐进表示\n",
    "2. 描述一下该算法的功能, 并判断是否是最高效的解决方案\n",
    "3. 使用python编程实现上述算法或其对应的更高效版本的算法\n"
   ]
  },
  {
   "cell_type": "markdown",
   "metadata": {},
   "source": [
    "idea：定义了一个swap函数，用于交换元素。当n=2时，比较两个元素，如果第一个大就交换。当n大于等于3时，需要将其分成三份。第一次递归前面三分之二，第二次递归后面三分之二，第三次再递归前面三分之二，通过多次递归逐步调整元素的顺序。"
   ]
  },
  {
   "cell_type": "markdown",
   "metadata": {},
   "source": [
    "answer:\n",
    "1.\n",
    "![figure](./fig/hw1q5.png)\n",
    "\n",
    "2.算法采用分治思想，将一个较大规模的问题不断分解为较小规模的子问题，通过递归调用自身来处理这些子问题，最终解决原问题。当n=2时，如果第一个元素大于第二个元素，则交换。当n大于等于3时,将其划分为3份。对前三分之2的部分进行递归，再对后三分之二进行递归，然后再对前三分之二进行递归，多次递归来调整元素顺序。这个算法不是最高效的算法，因为他的时间复杂度还算是比较高。"
   ]
  },
  {
   "cell_type": "code",
   "execution_count": 10,
   "metadata": {},
   "outputs": [
    {
     "name": "stdout",
     "output_type": "stream",
     "text": [
      "[2, 3, 4, 5, 8]\n"
     ]
    }
   ],
   "source": [
    "# 3.\n",
    "import math\n",
    "\n",
    "def swap(arr, i, j):\n",
    "    temp = arr[i]\n",
    "    arr[i] = arr[j]\n",
    "    arr[j] = temp\n",
    "\n",
    "def DoSomething(A, p, r):\n",
    "    n = r - p + 1\n",
    "    if n == 2 and A[p - 1] > A[r - 1]:\n",
    "        swap(A, p - 1, r - 1)\n",
    "    elif n >= 3:\n",
    "        m = math.ceil(2 * n / 3)\n",
    "        DoSomething(A, p, p + m - 1)\n",
    "        DoSomething(A, r - m + 1, r)\n",
    "        DoSomething(A, p, p + m - 1)\n",
    "\n",
    "\n",
    "A = [5, 3, 8, 4, 2]\n",
    "n = len(A)\n",
    "DoSomething(A, 1, n)\n",
    "print(A)"
   ]
  },
  {
   "cell_type": "markdown",
   "metadata": {},
   "source": [
    "## 问题 6：\n",
    "\n",
    "给定一个大小为 `n` 的数组 `nums` , 返回其中的多数元素。多数元素是指在数组中出现次数 **大于** `⌊ n/2 ⌋` 的元素。\n",
    "\n",
    "你可以假设数组是非空的, 并且给定的数组总是存在多数元素。\n",
    "\n",
    "1. 设计一个算法找到给定数组的多数元素, 分析算法设计思路, 计算算法时间复杂度, 使用python编程实现\n",
    "2. \\* 设计时间复杂度为 O(n)、空间复杂度为 O(1) 的算法解决此问题, 分析算法设计思路, 使用python编程实现\n",
    "\n",
    "e.g.:\n",
    "---\n",
    "1. nums=[3,2,3], 返回3\n",
    "2. nums=[2,2,1,1,1,2,2], 返回2\n"
   ]
  },
  {
   "cell_type": "markdown",
   "metadata": {},
   "source": [
    "idea：定义了一个count字典，统计每个元素出现的次数。通过遍历数组nums，对于每个元素num，检查它是否已经存在，如果在就+1，如果不在就加入字典并且设置为1。统计完所有出现的次数以，遍历字典的键值对，如果出现次数大于长度的一半就返回该元素。"
   ]
  },
  {
   "cell_type": "code",
   "execution_count": 5,
   "metadata": {},
   "outputs": [
    {
     "name": "stdout",
     "output_type": "stream",
     "text": [
      "3\n",
      "2\n"
     ]
    }
   ],
   "source": [
    "def majority_element(nums):\n",
    "    count = {}\n",
    "    for num in nums:\n",
    "        if num in count:\n",
    "            count[num] += 1\n",
    "        else:\n",
    "            count[num] = 1\n",
    "\n",
    "    for num, cnt in count.items():\n",
    "        if cnt > len(nums) // 2:\n",
    "            return num\n",
    "\n",
    "nums1 = [3, 2, 3]\n",
    "print(majority_element(nums1))\n",
    "\n",
    "nums2 = [2, 2, 1, 1, 1, 2, 2]\n",
    "print(majority_element(nums2))"
   ]
  },
  {
   "cell_type": "markdown",
   "metadata": {},
   "source": [
    "idea for 2\\*："
   ]
  },
  {
   "cell_type": "code",
   "execution_count": null,
   "metadata": {},
   "outputs": [],
   "source": [
    "# algorithm time complexity：O(n), space complexity:O(1)\n",
    "# add your code here"
   ]
  },
  {
   "cell_type": "markdown",
   "metadata": {},
   "source": [
    "## 问题 7：\n",
    "\n",
    "给定一个包含不同整数元素的数组 $ A[1..n]$ ,并且满足条件：$A[1]>A[2]$ 并且 $A[n-1]<A[n]$; 规定：如果一个元素比它两边的邻居元素都小, 即：$A[x]<A[x-1], A[x]<A[x+1]$ , 称这个元素A[x]为“局部最小”。通过遍历一次数组, 我们可以很容易在 $O(n)$的时间复杂度下找到一个局部最小值, \n",
    "\n",
    "\n",
    "1. 分析该问题, 设计一个算法在$O(logn)$的时间复杂度下找到一个局部最小(返回数值), 要求：分析算法设计思路, 并且使用python编程实现\n",
    "2. \\* 设计算法找出所有局部最小值, 分析算法设计思路, 并使用python编程实现\n",
    "\n",
    "e.g.:\n",
    "---\n",
    "A=[9, 3, 7, 2, 1, 4, 5 ] 时,  局部最小元素为 3, 1\n"
   ]
  },
  {
   "cell_type": "markdown",
   "metadata": {},
   "source": [
    "idea：采用二分法来找到局部最小值，初始化left,right来表示起始与结束位置。只要满足左边比右边小就一直循环，进入循环里面找到mid这个中间位置，如果比右边大，那就不是局部最小值，那左边位置就应该移动到中间的右边这个位置，反之，就是右边位置到中间。以此来划分一个新的左右查找区间。"
   ]
  },
  {
   "cell_type": "code",
   "execution_count": 13,
   "metadata": {},
   "outputs": [
    {
     "name": "stdout",
     "output_type": "stream",
     "text": [
      "局部最小元素为: 1\n"
     ]
    }
   ],
   "source": [
    "def find_min_element(A):\n",
    "    left, right = 0, len(A) - 1\n",
    "    while left < right:\n",
    "        mid = (left + right) // 2\n",
    "        if A[mid] > A[mid + 1]:\n",
    "            left = mid + 1\n",
    "        else:\n",
    "            right = mid\n",
    "    return A[left]\n",
    "\n",
    "A = [9, 3, 7, 2, 1, 4, 5]\n",
    "print(\"局部最小元素为:\", find_min_element(A))\n"
   ]
  },
  {
   "cell_type": "markdown",
   "metadata": {},
   "source": [
    "## 问题 8：\n",
    "\n",
    "给定包含n个不同数字的一组数, 寻找一种基于比较的算法在这组数中找到k个最小的数字, 并按顺序输出它们。\n",
    "\n",
    "1. 将n个数先进行排序, 然后按顺序输出最小的k个数。要求：选择合适的排序算法实现上述操作, 计算算法时间复杂度, 并使用python编程实现。\n",
    "2. 建立一个包含这n个数的堆（heap）, 并且调用 k 次Extract-min 按顺序输出最小的k个数。使用往空堆中不断插入元素的方法建立堆, 分析这种方法建堆的时间复杂度, 并使用python编程实现\n",
    "3. \\* 假设数组中包含的数据总数目超过了计算机的存储能力, 请设计一个算法, 找到这堆数据的前k小的数值, 计算时间复杂度, 并使用python实现该算法, 假设计算机一定能存储k个数据。\n",
    "\n",
    "e.g.：\n",
    "---\n",
    "数组arr=[5,4,3,2,6,1,88,33,22,107] 的前3个最小数据为：1, 2, 3\n"
   ]
  },
  {
   "cell_type": "markdown",
   "metadata": {},
   "source": [
    "idea：\n",
    "\n",
    "1.使用冒泡排序通过重复遍历来比较每对相邻元素比较前后两数大小进行排序。\n",
    "\n",
    "2.创建一个空堆，将数组中的每一个元素加入到堆中去，堆会自动调整以此来成为一个最小堆。建立好最小堆以后，通过不超过原本数组长度的循环和不超过k的循环次数下，弹出堆顶元素这个最小元素加入到result列表中，这样就可以得到k个这样的最小元素，最后返回结果即可。"
   ]
  },
  {
   "cell_type": "code",
   "execution_count": 14,
   "metadata": {},
   "outputs": [
    {
     "name": "stdout",
     "output_type": "stream",
     "text": [
      "排序方法找到的前k个最小数为: [1, 2, 3]\n",
      "堆方法找到的前k个最小数为: [1, 2, 3]\n"
     ]
    }
   ],
   "source": [
    "# 1.\n",
    "def bubble_sort(arr, k):\n",
    "    n = len(arr)\n",
    "    for i in range(n):\n",
    "        for j in range(0, n - i - 1):\n",
    "            if arr[j] > arr[j + 1]:\n",
    "                arr[j], arr[j + 1] = arr[j + 1], arr[j]\n",
    "    return arr[:k]\n",
    "\n",
    "\n",
    "arr = [5, 4, 3, 2, 6, 1, 88, 33, 22, 107]\n",
    "k = 3\n",
    "print(f\"冒泡排序方法找到的前{k}个最小数为: {bubble_sort(arr, k)}\")"
   ]
  },
  {
   "cell_type": "code",
   "execution_count": null,
   "metadata": {
    "collapsed": false,
    "jupyter": {
     "outputs_hidden": false
    },
    "pycharm": {
     "name": "#%%\n"
    }
   },
   "outputs": [],
   "source": [
    "# an algorithm with O(n^2)"
   ]
  },
  {
   "cell_type": "code",
   "execution_count": 21,
   "metadata": {
    "collapsed": false,
    "jupyter": {
     "outputs_hidden": false
    },
    "pycharm": {
     "name": "#%%\n"
    }
   },
   "outputs": [
    {
     "name": "stdout",
     "output_type": "stream",
     "text": [
      "堆排序方法找到的前3个最小数为: [1, 2, 3]\n"
     ]
    }
   ],
   "source": [
    "# 2.\n",
    "import heapq\n",
    "def extract_k_min(arr, k):\n",
    "    heap = []\n",
    "    for num in arr:\n",
    "        heapq.heappush(heap, num)\n",
    "\n",
    "    result = []\n",
    "    for i in range(min(k, len(arr))):\n",
    "        result.append(heapq.heappop(heap))\n",
    "\n",
    "    return result\n",
    "\n",
    "arr = [5, 4, 3, 2, 6, 1, 88, 33, 22, 107]\n",
    "k = 3\n",
    "print(f\"堆排序方法找到的前{k}个最小数为: {extract_k_min(arr, k)}\")"
   ]
  },
  {
   "cell_type": "code",
   "execution_count": null,
   "metadata": {
    "collapsed": false,
    "jupyter": {
     "outputs_hidden": false
    },
    "pycharm": {
     "name": "#%%\n"
    }
   },
   "outputs": [],
   "source": [
    "# an algorithm with O(nlogn+klogn)"
   ]
  },
  {
   "cell_type": "markdown",
   "metadata": {},
   "source": [
    "## 问题 9：\n",
    "\n",
    "**选择问题**:给定一个包含n个未排序值的数组A和一个$k≤n$的整数, 返回A中最小的第k项。\n",
    "\n",
    "在课堂上, 学了一个简单的O(n)随机算法来解决选择问题。事实上还有一种更复杂的最坏情况下时间复杂度为$O(n)$ 的选择算法。假设使用一个黑盒过程来实现这个O(n)选择算法: 给定一个数组A、 $p < r$ 和 k,  $BB(A, p, r, k)$ 可以在$O(r−p+ 1)$时间内找到并报告$A[p..r]$中第k小的项的下标。假设你可以在线性时间内处理Partition过程。\n",
    "\n",
    "1. 请分析如何修改 Quicksork 算法可以使其最差情况下的运行时间为 $O(nlogn)$, 使用伪代码实现, 并分析为何修改后的版本最差情况的运行时间为$O(nlogn)$\n",
    "\n",
    "note: 伪代码中, 你可以直接调用用` BB(A,p,r,k)`这个函数用于表示在最坏情况下时间复杂度为$O(n)$的选择算法；\n",
    "\n",
    "\n",
    "\n",
    "2. 找到一个更好的算法报告数组A中的前k小的项, 使用伪代码表示你的算法, 并分析你算法的时间复杂度。\n",
    "\n",
    "举例：A=[13, 3, 7, 9, 11, 1, 15, 2, 8, 10, 12, 16, 14, 5], 当k=4时, 应该报告1, 2, 3, 4\n",
    "\n",
    "note： 最直观的方法就是先将数组A排序, 然后从左向右报告其前k项, 这样操作的时间复杂度为$O(nlogn)$. 调用用` BB(A,p,r,k)`设计一个算法使其报告无序数组A的前k项, 满足时间复杂度好于$\\Theta(nlogn)$, 并且当$k=\\sqrt{n}$时, 你设计的算法时间复杂度应该为$\\Theta(n)$.\n",
    "\n",
    "\n",
    "\n",
    "3. 给定一个大小为n的数组, 找到一个 时间复杂度为$O(n log k)$ 的算法, 该算法将A中的元素重新排序, 使它们被划分为k个部分, 每个部分的元素小于或等于下一部分的元素。假设n和k都是2的幂。使用伪代码表示你的算法, 并分析时间复杂度。\n",
    "\n",
    "e.g.:\n",
    "---\n",
    "数组：[1,  3,  5,  7,  9,  11,  13,  15,  2,  4,  6,  8,  10,  12,  16,  14], k=4, \n",
    "\n",
    "对应重新排序的数组为：[1,  3,  2,  4]  [7,  6,  5,  8]  [12,  11,  10,  9]  [13,  14,  16,  15]\n",
    "\n",
    "\n"
   ]
  },
  {
   "cell_type": "markdown",
   "metadata": {},
   "source": [
    "idea：\n",
    "\n",
    "1.因为我们需要递归的调用BB函数，所以需要找到数组的中位数，规定为k，并且调用以后分割左右子数组大小为原来的一半。因为每次分割，数组大小如果原来为n，分割后左右子数组长度分别为n/2和n/2 - 1，所以递归深度为O(logn)。\n",
    "\n",
    "时间复杂度：每层时间复杂度为O(n)，所以总的时间复杂度为O(logn)*O(n)=O(nlogn)。\n",
    "\n",
    "2.使用BB找到第k小的元素作为阈值它的时间复杂度为时间复杂度O(n)。然后遍历数组，分两类收集元素，一类是小于k的数组，一类是统计大于k的总数，这部分时间复杂度为O(n)。第三部分就直接组合数组即可，不用排序，然后返回k个元素。\n",
    "\n",
    "时间复杂度：所以其总的时间复杂度为O(n)+O(n)+O(k)=O(n)(当k=n时，O(k)=O(n^(1/2))≤O(n))\n",
    "\n",
    "3.我们通过递归地将数组分割为更小的段，并且用中位数去保证一个段间是有序的，最总合并得到K个有序段。\n",
    "\n",
    "时间复杂度：每层调用函数时间为O(n)，递归深度为log2k，总的时间复杂度为：O(n)*O(logk)=O(nlogk)"
   ]
  },
  {
   "cell_type": "code",
   "execution_count": null,
   "metadata": {},
   "outputs": [],
   "source": [
    "#1.\n",
    "def Quicksort(A, p, r):\n",
    "    if p < r:\n",
    "        k = (r - p + 1) // 2\n",
    "        median_idx = BB(A, p, r, k)\n",
    "        swap(A[median_idx], A[r])\n",
    "        q = partition(A, p, r)\n",
    "        Quicksort(A, p, q - 1)\n",
    "        Quicksort(A, q + 1, r)\n",
    "\n",
    "#2.\n",
    "def find_k(A, k):\n",
    "    if k == 0:\n",
    "        return []\n",
    "    n = len(A)\n",
    "    threshold = BB(A, 0, n - 1, k)\n",
    "    strict_less = []\n",
    "    equal_or_less = 0\n",
    "\n",
    "    for x in A:\n",
    "        if x < threshold:\n",
    "            strict_less.append(x)\n",
    "            equal_or_less += 1\n",
    "        elif x == threshold:\n",
    "            equal_or_less += 1\n",
    "    needed = k - len(strict_less)\n",
    "    result = strict_less + [threshold] * needed\n",
    "\n",
    "    return result[:k]\n",
    "\n",
    "#3.\n",
    "def k(A, target_k):\n",
    "    n = len(A)\n",
    "    if target_k == 1:\n",
    "        return A\n",
    "\n",
    "    mid = BB(A, 0, n - 1, n // 2)\n",
    "    swap(A[mid], A[-1])\n",
    "    pivot_idx = partition(A, 0, n - 1)\n",
    "    left = A[:pivot_idx]\n",
    "    right = A[pivot_idx:]\n",
    "    processed_left = k(left, target_k // 2)\n",
    "    processed_right = k(right, target_k // 2)\n",
    "\n",
    "    return processed_left + processed_right"
   ]
  },
  {
   "cell_type": "markdown",
   "metadata": {},
   "source": [
    "## 问题 10：\n",
    "\n",
    "给定一个包含m个**字符串**的数组A, 其中不同的字符串可能有不同的字符数, 但数组中所有字符串的字符总数为n。设计一个算法在 $O(n)$ 时间内对字符串进行排序, 分析算法设计方案, 计算其时间复杂度, 并基于python编程实现该算法。请注意, 假设字符串只包含\"a\",\"b\",...,\"z\", \n",
    "\n",
    "\n",
    "\n",
    "举例1：数组A=[\"a\", \"da\", \"bde\", \"ab\", \"bc\", \"abdc\", \"cdba\"], 排序后的数组应该为：['a', 'ab', 'abdc', 'bc', 'bde', 'cdba', 'da']\n",
    "\n",
    "\n",
    "\n",
    "举例2：数组A=['ab', 'a', 'b', 'abc', 'ba', 'c'], 排序后的数组应该为：\n",
    "\n",
    "['a', 'ab', 'abc', 'b', 'ba', 'c']\n",
    "\n",
    "\n",
    "\n",
    "举例3：数组A=['aef', 'yzr', 'wr', 'ab', 'bhjc', 'lkabdc', 'pwcdba'],  排序后的数组应该为：['ab', 'aef', 'bhjc', 'lkabdc', 'pwcdba', 'wr', 'yzr']\n",
    "\n",
    "\n",
    "\n",
    "note：\n",
    "\n",
    "-  两个字符之间的比较可以考虑比较他们对应的ASCII码值；\n",
    "- python中可以使用`ord(\"a\")`返回字符 “a”对应的ASCII值"
   ]
  },
  {
   "cell_type": "markdown",
   "metadata": {},
   "source": [
    "idea:首先判断一下是否非空，如果为空，则直接返回空列表。计算列表中字符串的最大长度，他来决定排序过程中需要进行的轮数，从字符串最后一个开始，向前进行多轮排序，每一轮用count来存储各个字符串。遍历输入列表中的每个字符串，如果字符串的长度大于或等于当前轮数则将其放入count中对应字符索引的子列表中。反之则放入count[0]中，一直重复直到完成所有排序，并返回。"
   ]
  },
  {
   "cell_type": "code",
   "execution_count": 9,
   "metadata": {},
   "outputs": [
    {
     "name": "stdout",
     "output_type": "stream",
     "text": [
      "['a', 'ab', 'abdc', 'bc', 'bde', 'cdba', 'da']\n",
      "['a', 'ab', 'abc', 'b', 'ba', 'c']\n",
      "['ab', 'aef', 'bhjc', 'lkabdc', 'pwcdba', 'wr', 'yzr']\n"
     ]
    }
   ],
   "source": [
    "def sort_strings(A):\n",
    "    if not A:\n",
    "        return []\n",
    "    max_length = max(len(s) for s in A) # 找到最长的字符串长度\n",
    "    for i in range(max_length - 1, -1, -1):\n",
    "        count = [[] for i in range(26)]\n",
    "        for s in A:\n",
    "            if i < len(s):\n",
    "                index = ord(s[i]) - ord('a')# 获取字符对应的索引\n",
    "                count[index].append(s)\n",
    "            else:\n",
    "                count[0].append(s)# 字符串长度不足的放入第 0 组\n",
    "        A = []\n",
    "        for group in count:\n",
    "            A.extend(group)\n",
    "    return A\n",
    "\n",
    "A1 = [\"a\", \"da\", \"bde\", \"ab\", \"bc\", \"abdc\", \"cdba\"]\n",
    "A2 = ['ab', 'a', 'b', 'abc', 'ba', 'c']\n",
    "A3 = ['aef', 'yzr', 'wr', 'ab', 'bhjc', 'lkabdc', 'pwcdba']\n",
    "\n",
    "print(sort_strings(A1))\n",
    "print(sort_strings(A2))\n",
    "print(sort_strings(A3))"
   ]
  },
  {
   "cell_type": "code",
   "execution_count": null,
   "outputs": [],
   "source": [],
   "metadata": {
    "collapsed": false,
    "pycharm": {
     "name": "#%%\n"
    }
   }
  },
  {
   "cell_type": "code",
   "execution_count": null,
   "metadata": {
    "collapsed": false,
    "jupyter": {
     "outputs_hidden": false
    },
    "pycharm": {
     "name": "#%%\n"
    }
   },
   "outputs": [],
   "source": []
  },
  {
   "cell_type": "code",
   "execution_count": null,
   "metadata": {
    "collapsed": false,
    "jupyter": {
     "outputs_hidden": false
    },
    "pycharm": {
     "name": "#%%\n"
    }
   },
   "outputs": [],
   "source": []
  },
  {
   "cell_type": "code",
   "execution_count": null,
   "metadata": {
    "collapsed": false,
    "jupyter": {
     "outputs_hidden": false
    },
    "pycharm": {
     "name": "#%%\n"
    }
   },
   "outputs": [],
   "source": []
  },
  {
   "cell_type": "code",
   "execution_count": null,
   "metadata": {
    "collapsed": false,
    "jupyter": {
     "outputs_hidden": false
    },
    "pycharm": {
     "name": "#%%\n"
    }
   },
   "outputs": [],
   "source": []
  },
  {
   "cell_type": "code",
   "execution_count": null,
   "metadata": {},
   "outputs": [],
   "source": []
  }
 ],
 "metadata": {
  "kernelspec": {
   "display_name": "Python 3 (ipykernel)",
   "language": "python",
   "name": "python3"
  },
  "language_info": {
   "codemirror_mode": {
    "name": "ipython",
    "version": 3
   },
   "file_extension": ".py",
   "mimetype": "text/x-python",
   "name": "python",
   "nbconvert_exporter": "python",
   "pygments_lexer": "ipython3",
   "version": "3.8.0"
  }
 },
 "nbformat": 4,
 "nbformat_minor": 4
}