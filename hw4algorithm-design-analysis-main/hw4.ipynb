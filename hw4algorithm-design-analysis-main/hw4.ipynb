{
 "cells": [
  {
   "cell_type": "markdown",
   "metadata": {},
   "source": [
    "## algorithm design and anlysis-2025 spring  homework 4\n",
    "**Deadline**：2025.5.14\n",
    "\n",
    "**name**:\n",
    "\n",
    "\n",
    "note：\n",
    "---\n",
    "1. 带有\\*的题目，申请免上课的同学，必须完成，其他同学选作；\n",
    "2. 请独立完成，如求助了他人或者大模型，请著明，并且不可省略算法分析部分；\n",
    "4. 如若作答有雷同，全部取消成绩；\n",
    "3. 需要书面作答的题目，可以通过引用图片的形式添加，但是注意上传项目时包含所引用的图片的源文件；\n",
    "4. $log_n$ 默认表示$log_2{n}$;"
   ]
  },
  {
   "cell_type": "markdown",
   "metadata": {},
   "source": [
    "## 问题 1 \n",
    "**最小生成树（Minimum Spanning Tree）**\n",
    "\n",
    "设  **G**  为一个带权重的连通无向图，且所有边的权重均不相等。令$e_i$ 为权重第 $i$ 小的边。最小生成树（MST）是否必须包含 $e_1$ ? 同理，是否必须包含 $e_2$ 和 $e_3$ ? 若必须包含，请给出证明；否则，请构造反例。需从基本原理论证，不能依赖割引理(cut lemma) 或 Prim/Kruskal算法的正确性。\n"
   ]
  },
  {
   "cell_type": "markdown",
   "metadata": {},
   "source": [
    "answer:![figure](./fig/hw4q1.png)"
   ]
  },
  {
   "cell_type": "markdown",
   "metadata": {},
   "source": [
    "## 问题 2 \n",
    "**瓶颈生成树（Bottleneck Spanning Tree）**\n",
    "\n",
    "带有权重的无向图 $G(V,E,w)$ 的瓶颈生成树，表现为：在所有生成树中，最大权重边的权重值最小。即，BST $T$ 最小化瓶颈损失 $c(T)=max_{e \\in T}{w(e)}$。\n",
    "\n",
    "1. 证明 $G$ 的每一个最小生成树（MST）都是瓶颈生成树（BST）\n",
    "2. 设计一个线性时间复杂度的算法：， 对于一个图 $G(V,E,w)$ 和一个整数 $b$，判断图 $ G$ 是否存在一个瓶颈生成树，其最大权重边的权重不超过 $b$，分析算法设计思路，并基于python编程实现。\n",
    "3. 设计一个线性时间复杂度的算法：对于给定的图 $G(V,E,w)$，找到其瓶颈生成树，分析算法设计思路，并基于python编程实现。"
   ]
  },
  {
   "cell_type": "markdown",
   "metadata": {},
   "source": [
    "idea：\n",
    "2.算法基于Kruskal算法的变体，用于验证是否存在一个生成树，将所有边按权重从小到大排序，遍历排序后的边，依次将不形成环且权重不超过b的边加入生成树，最终检查生成树的最大边权重是否不超过b，并计算该生成树的总权重。\n",
    "\n",
    "3.使用二分查找在图的边权重范围[min_w, max_w]内，通过二分查找确定一个权重阈值mid_w，验证仅用权重≤mid_w的边是否能连通整个图，若连通，尝试更小的阈值；若不可连通，尝试更大的阈值，当左边界超过右边界时，返回最小可行阈值。\n",
    "\n",
    "answer:![figure](./fig/hw4q2.png)"
   ]
  },
  {
   "cell_type": "code",
   "execution_count": 3,
   "metadata": {},
   "outputs": [
    {
     "name": "stdout",
     "output_type": "stream",
     "text": [
      "存在瓶颈生成树: True, 瓶颈生成树的权重: 19\n",
      "瓶颈生成树的最大边权为：3\n"
     ]
    }
   ],
   "source": [
    "#2.\n",
    "class UnionFind:\n",
    "    def __init__(self, n):\n",
    "        self.parent = list(range(n))\n",
    "\n",
    "    def find(self, p):\n",
    "        if self.parent[p] != p:\n",
    "            self.parent[p] = self.find(self.parent[p])\n",
    "        return self.parent[p]\n",
    "\n",
    "    def union(self, p, q):\n",
    "        rootP = self.find(p)\n",
    "        rootQ = self.find(q)\n",
    "        if rootP != rootQ:\n",
    "            self.parent[rootQ] = rootP\n",
    "\n",
    "\n",
    "def kruskal(edges, n, b):\n",
    "    uf = UnionFind(n)\n",
    "    bottleneck_edge = 0\n",
    "    mst_weight = 0\n",
    "\n",
    "    edges.sort(key=lambda x: x[2])\n",
    "\n",
    "    for u, v, weight in edges:\n",
    "        if uf.find(u) != uf.find(v):\n",
    "            if weight > b:\n",
    "                return False\n",
    "            uf.union(u, v)\n",
    "            mst_weight += weight\n",
    "            bottleneck_edge = max(bottleneck_edge, weight)\n",
    "\n",
    "    return bottleneck_edge <= b, mst_weight\n",
    "\n",
    "\n",
    "\n",
    "edges = [\n",
    "    (0, 1, 10),\n",
    "    (0, 2, 6),\n",
    "    (0, 3, 5),\n",
    "    (1, 3, 15),\n",
    "    (2, 3, 4)\n",
    "]\n",
    "n = 4\n",
    "b = 10\n",
    "\n",
    "exists, weight = kruskal(edges, n, b)\n",
    "print(f\"存在瓶颈生成树: {exists}, 瓶颈生成树的权重: {weight}\")\n",
    "\n",
    "# algorithm of the liear time complexity :边排序时间复杂度为O(mlogm)，遍历所有的边O(m)，总的：O(mlogm)\n",
    "\n",
    "#3.\n",
    "class UnionFind:\n",
    "    def __init__(self, size):\n",
    "        self.parent = list(range(size))\n",
    "\n",
    "    def find(self, x):\n",
    "        if self.parent[x] != x:\n",
    "            self.parent[x] = self.find(self.parent[x])\n",
    "        return self.parent[x]\n",
    "\n",
    "    def union(self, x, y):\n",
    "        root_x = self.find(x)\n",
    "        root_y = self.find(y)\n",
    "        if root_x != root_y:\n",
    "            self.parent[root_y] = root_x\n",
    "            return True\n",
    "        return False\n",
    "\n",
    "\n",
    "def is_connected(edges, n, max_weight):\n",
    "    uf = UnionFind(n)\n",
    "    for u, v, w in edges:\n",
    "        if w <= max_weight:\n",
    "            uf.union(u, v)\n",
    "    roots = set(uf.find(i) for i in range(n))\n",
    "    return len(roots) == 1\n",
    "\n",
    "\n",
    "def find_bottleneck_bst(edges, n):\n",
    "    if n == 0:\n",
    "        return 0\n",
    "    min_w = min(w for _, _, w in edges)\n",
    "    max_w = max(w for _, _, w in edges)\n",
    "\n",
    "    left, right = min_w, max_w\n",
    "    answer = max_w\n",
    "\n",
    "    while left <= right:\n",
    "        mid = (left + right) // 2\n",
    "        if is_connected(edges, n, mid):\n",
    "            answer = mid\n",
    "            right = mid - 1\n",
    "        else:\n",
    "            left = mid + 1\n",
    "\n",
    "    return answer\n",
    "\n",
    "\n",
    "edges = [\n",
    "    (0, 1, 4), (0, 2, 1), (1, 2, 2),\n",
    "    (1, 3, 5), (2, 3, 3)\n",
    "]\n",
    "n = 4\n",
    "bottleneck = find_bottleneck_bst(edges, n)\n",
    "print(f\"瓶颈生成树的最大边权为：{bottleneck}\")\n",
    "\n",
    "# algorithm of the liear time complexity :若边权范围为常数，时间复杂度为 O(m+n)；否则为 O((m+n)log C)"
   ]
  },
  {
   "cell_type": "markdown",
   "metadata": {},
   "source": [
    "## 问题 3\n",
    "\n",
    "**道路网（Road Network）**\n",
    "\n",
    "假设有一个以图 $ G(V, E, l) $ 表示的道路网络，连接了一组城市 $ V $。我们假设该网络是有向的，并且每条道路 $(u, v) \\in E$ 都有一个非负的长度 $ l(u, v) $。一条新的道路即将被建造，因此有一个列表 $ E' $ 包含它可以连接的城市对。每对 $(u, v) \\in E'$ 都有一个对应的长度 $ l'(u, v) $。我们希望选择一对城市，使得两个城市 $ s, t \\in V $ 之间的距离减少最大。请为此问题编写一个高效的算法，并详细解释算法的正确性和复杂度。\n"
   ]
  },
  {
   "cell_type": "markdown",
   "metadata": {},
   "source": [
    "idea :首先使用Floyd-Warshall算法计算图中所有顶点对之间的最短路径。这个算法通过动态规划的方式，逐步考虑通过每个顶点作为中间点的路径，更新顶点对之间的最短路径。对于每条可能的新道路(u,v)，我们模拟这条道路的建设对最短路径的影响。具体来说创建一个新的距离矩阵new_dist，初始时与原始距离矩阵dist相同,在new_dist中，首先设置新道路(u,v)的距离为l。然后，再次使用Floyd-Warshall算法的思想，通过考虑通过u和v的所有可能路径，更新new_dist中的路径长度。计算建设这条道路后从起点s到终点t的距离减少量,减少量大于当前记录的最大减少量,就更新。\n",
    "\n",
    "时间复杂度：Floyd-Warshall算法的时间复杂度为O(n^3),对于每条新道路也是O(n^3)，假设有m条新道路，总的：O(m*n^3)"
   ]
  },
  {
   "cell_type": "code",
   "execution_count": 4,
   "metadata": {
    "collapsed": false,
    "jupyter": {
     "outputs_hidden": false
    },
    "pycharm": {
     "name": "#%%\n"
    }
   },
   "outputs": [
    {
     "name": "stdout",
     "output_type": "stream",
     "text": [
      "最大减少量: 3\n",
      "对应的城市对: (1, 3, 1)\n"
     ]
    }
   ],
   "source": [
    "def floyd_warshall(n, graph):\n",
    "    dist = [[float('inf')] * n for _ in range(n)]\n",
    "    for i in range(n):\n",
    "        dist[i][i] = 0\n",
    "        for j in range(n):\n",
    "            if graph[i][j] != float('inf'):\n",
    "                dist[i][j] = graph[i][j]\n",
    "    for k in range(n):\n",
    "        for i in range(n):\n",
    "            for j in range(n):\n",
    "                if dist[i][k] + dist[k][j] < dist[i][j]:\n",
    "                    dist[i][j] = dist[i][k] + dist[k][j]\n",
    "    return dist\n",
    "\n",
    "def max_reduction(n, graph, new_roads, s, t):\n",
    "    dist = floyd_warshall(n, graph)\n",
    "    max_reduction = 0\n",
    "    best_road = None\n",
    "    for u, v, l in new_roads:\n",
    "        new_dist = [row[:] for row in dist]\n",
    "        new_dist[u][v] = l\n",
    "        new_dist[v][u] = l\n",
    "        for k in range(n):\n",
    "            for i in range(n):\n",
    "                for j in range(n):\n",
    "                    if new_dist[i][k] + new_dist[k][j] < new_dist[i][j]:\n",
    "                        new_dist[i][j] = new_dist[i][k] + new_dist[k][j]\n",
    "        if new_dist[s][t] < dist[s][t]:\n",
    "            current_reduction = dist[s][t] - new_dist[s][t]\n",
    "            if current_reduction > max_reduction:\n",
    "                max_reduction = current_reduction\n",
    "                best_road = (u, v, l)\n",
    "    return max_reduction, best_road\n",
    "\n",
    "n = 4\n",
    "graph = [\n",
    "    [0, 3, float('inf'), 7],\n",
    "    [3, 0, 5, float('inf')],\n",
    "    [float('inf'), 5, 0, 2],\n",
    "    [7, float('inf'), 2, 0]\n",
    "]\n",
    "new_roads = [\n",
    "    (0, 2, 4),\n",
    "    (1, 3, 1)\n",
    "]\n",
    "s = 0\n",
    "t = 3\n",
    "max_reduction_value, best_road = max_reduction(n, graph, new_roads, s, t)\n",
    "print(f\"最大减少量: {max_reduction_value}\")\n",
    "print(f\"对应的城市对: {best_road}\")"
   ]
  },
  {
   "cell_type": "markdown",
   "metadata": {
    "collapsed": false,
    "jupyter": {
     "outputs_hidden": false
    },
    "pycharm": {
     "name": "#%% md\n"
    }
   },
   "source": [
    "## 问题 4\n",
    "\n",
    "**逃离问题**\n",
    "\n",
    "一个 $ n \\times n $ 的网格是一个无向图，由 $ n $ 行和 $ n $ 列的顶点组成，如下图所示。我们用 $(i,j)$ 表示第 $ i $ 行和第 $ j $ 列的顶点。除了边界顶点，网格中的所有顶点都有四个邻居，即满足 $ i = 1, i = n, j = 1 $ 或 $ j = n $ 的点 $(i,j)$。\n",
    "\n",
    "给定网格中的 $ m \\leq n^2 $ 个起点 $(x_1, y_1), (x_2, y_2), \\cdots , (x_m, y_m)$，逃离问题是确定是否存在 $ m $ 条顶点不相交的路径（即路径之间不相交），从这些起点到边界上的任意 $ m $ 个不同点。例如，图1中的网格存在逃离。\n",
    "\n",
    "(1) 该问题可以看作是一个最大流问题。考虑一个流网络，其中顶点和边都有容量。也就是说，进入任何给定顶点的总正流量受到容量限制。证明在具有边和顶点容量的网络中确定最大流可以简化为在具有可比大小的普通流网络上的最大流问题。更准确地说，你需要将一个具有顶点和边容量的网络 $ G = (V,E) $ 转换为另一个仅具有边容量的网络 $ G' = (V', E') $，使得两个网络上的最大流相同，并且你构建的新网络具有 $ V' = O(V) $ 个顶点和 $ E' = O(E) $ 条边。你可以假设网络是连通的。\n",
    "\n",
    "(2) 描述一个解决逃离问题的高效算法，并分析其运行时间。\n",
    "\n",
    "\n",
    "<div align=\"center\"> <img alt=\"图片\" src=\"./fig/escepe-p.png\"> </div>\n",
    "<center> 图2. 逃脱问题网格，起始顶点为黑色，其他网格顶点为白色</center>"
   ]
  },
  {
   "cell_type": "markdown",
   "metadata": {
    "pycharm": {
     "name": "#%% md\n"
    }
   },
   "source": [
    "idea：将逃离问题建模为一个网络流问题，其中网格的每个单元格是一个顶点，每个单元格的四个邻居之间的连接是边。源点s连接到所有起点，汇点t连接到所有边界上的单元格。建一个图，包含源点s、汇点t和网格中的所有顶点。对于每个起点，添加一条从源点到该点的边，容量为1。对于每个边界点，添加一条从该点到汇点的边，容量为1，网格内部的每条边的容量也为1。用Dinic算法计算从源点s到汇点t的最大流。Dinic算法通过构建分层图和寻找增广路径来迭代地增加网络中的流量。使用广度优先搜索构建分层图，使用深度优先搜索在分层图中寻找从源点到汇点的增广路径，并沿着这些路径推送可能的最大流量，重复构建分层图和寻找增广路径的过程，直到无法找到更多的增广路径。\n",
    "\n",
    "时间复杂度：O(n^6)\n",
    "answer:![figure](./fig/hw4q4.png)"
   ]
  },
  {
   "cell_type": "code",
   "execution_count": 1,
   "metadata": {
    "collapsed": false,
    "jupyter": {
     "outputs_hidden": false
    },
    "pycharm": {
     "name": "#%%\n"
    }
   },
   "outputs": [
    {
     "name": "stdout",
     "output_type": "stream",
     "text": [
      "最大逃离路径数: 4\n"
     ]
    }
   ],
   "source": [
    "from collections import defaultdict, deque\n",
    "\n",
    "class Dinic:\n",
    "    def __init__(self, n):\n",
    "        self.n = n\n",
    "        self.g = [[] for _ in range(n)]\n",
    "        self.level = None\n",
    "        self.it = None\n",
    "\n",
    "    def add_edge(self, fr, to, cap):\n",
    "        self.g[fr].append([to, cap, len(self.g[to])])\n",
    "        self.g[to].append([fr, 0, len(self.g[fr]) - 1])\n",
    "\n",
    "    def bfs(self, s):\n",
    "        self.level = [-1] * self.n\n",
    "        q = deque([s])\n",
    "        self.level[s] = 0\n",
    "        while q:\n",
    "            v = q.popleft()\n",
    "            for e in self.g[v]:\n",
    "                if e[1] > 0 and self.level[e[0]] < 0:\n",
    "                    self.level[e[0]] = self.level[v] + 1\n",
    "                    q.append(e[0])\n",
    "\n",
    "    def dfs(self, v, t, f):\n",
    "        if v == t:\n",
    "            return f\n",
    "        for i in range(self.it[v], len(self.g[v])):\n",
    "            e = self.g[v][i]\n",
    "            if e[1] > 0 and self.level[v] < self.level[e[0]]:\n",
    "                d = self.dfs(e[0], t, min(f, e[1]))\n",
    "                if d > 0:\n",
    "                    e[1] -= d\n",
    "                    self.g[e[0]][e[2]][1] += d\n",
    "                    self.it[v] = i\n",
    "                    return d\n",
    "        self.it[v] = len(self.g[v])\n",
    "        return 0\n",
    "\n",
    "    def max_flow(self, s, t):\n",
    "        flow = 0\n",
    "        while True:\n",
    "            self.bfs(s)\n",
    "            if self.level[t] < 0:\n",
    "                return flow\n",
    "            self.it = [0] * self.n\n",
    "            while True:\n",
    "                f = self.dfs(s, t, float('inf'))\n",
    "                if f == 0:\n",
    "                    break\n",
    "                flow += f\n",
    "\n",
    "def escape(n, sources):\n",
    "    s = n * n\n",
    "    t = s + 1\n",
    "    flow_network = Dinic(t + 1)\n",
    "\n",
    "    for source in sources:\n",
    "        flow_network.add_edge(s, source, 1)\n",
    "\n",
    "    for i in range(n):\n",
    "        for j in range(n):\n",
    "            cur = i * n + j\n",
    "            if i < n - 1:\n",
    "                flow_network.add_edge(cur, cur + n, 1)\n",
    "            if j < n - 1:\n",
    "                flow_network.add_edge(cur, cur + 1, 1)\n",
    "\n",
    "    for i in range(n):\n",
    "        flow_network.add_edge(i, t, 1)\n",
    "        flow_network.add_edge(n * n - n + i, t, 1)\n",
    "\n",
    "    for i in range(n):\n",
    "        flow_network.add_edge(i * n, t, 1)\n",
    "        flow_network.add_edge((i + 1) * n - 1, t, 1)\n",
    "\n",
    "    return flow_network.max_flow(s, t)\n",
    "\n",
    "n = 5\n",
    "sources = [1, 3, 6, 7]\n",
    "max_escape_paths = escape(n, sources)\n",
    "print(f\"最大逃离路径数: {max_escape_paths}\")"
   ]
  },
  {
   "cell_type": "code",
   "execution_count": null,
   "metadata": {},
   "outputs": [],
   "source": []
  }
 ],
 "metadata": {
  "kernelspec": {
   "display_name": "Python 3 (ipykernel)",
   "language": "python",
   "name": "python3"
  },
  "language_info": {
   "codemirror_mode": {
    "name": "ipython",
    "version": 3
   },
   "file_extension": ".py",
   "mimetype": "text/x-python",
   "name": "python",
   "nbconvert_exporter": "python",
   "pygments_lexer": "ipython3",
   "version": "3.8.0"
  }
 },
 "nbformat": 4,
 "nbformat_minor": 4
}
