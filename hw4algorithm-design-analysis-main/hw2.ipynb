{
 "cells": [
  {
   "cell_type": "markdown",
   "metadata": {},
   "source": [
    "## algorithm design and anlysis-2025 spring  homework 2\n",
    "**Deadline**：2025.5.14\n",
    "\n",
    "**name**:\n",
    "\n",
    "\n",
    "note：\n",
    "---\n",
    "1. 带有\\*的题目，申请免上课的同学，必须完成，其他同学选作；\n",
    "2. 请独立完成，如求助了他人或者大模型，请著明，并且不可省略算法分析部分；\n",
    "4. 如若作答有雷同，全部取消成绩；\n",
    "3. 需要书面作答的题目，可以通过引用图片的形式添加，但是注意上传项目时包含所引用的图片的源文件；\n",
    "4. $log_n$ 默认表示$log_2{n}$;"
   ]
  },
  {
   "cell_type": "markdown",
   "metadata": {},
   "source": [
    "## 问题 1  \n",
    "\n",
    "> 给定一个已排序的链表的头 `head` ， *删除所有重复的元素，使每个元素只出现一次* 。返回 *已排序的链表* 。链表的类如下所示：\n",
    "\n",
    "```python\n",
    "class NodeList:\n",
    "    def __init__(self, val=None, right=None):\n",
    "        self.val   = val\n",
    "        self.right = right\n",
    "```\n",
    "\n",
    "输入是一个数组，你首先需要将数组转化为链表，然后删除链表中的重复元素，再遍历链表元素，以一个数组的形式返回。请设计一个算法解决上述任务，分析算法设计思路，计算时间复杂度, 并基于python编程实现。\n",
    "\n",
    "e.g.  输入：head=[1, 1, 2, 3, 3]   输出：[1, 2, 3]\n",
    "\n",
    "![image-20240502110020439](./fig/hw2q1.png)\n",
    "\n"
   ]
  },
  {
   "cell_type": "markdown",
   "metadata": {},
   "source": [
    "idea：\n",
    "首先创建一个单链表，然后将数组转化为链表，需要检验一下数组是否为空，不为空就把第一个数组的值赋值给头结点，然后遍历数组取其值依次赋值给链表的下一个结点。然后删除链表中的重复元素，定义一个循环判断当前结点或下一个结点不为空，检查当前结点和下一个结点的值，如果重复指针择指向下下个结点，若不重复指针则指向下一个结点即可删除重复的值。最后将链表中的值添加到数组中去。"
   ]
  },
  {
   "cell_type": "code",
   "execution_count": 1,
   "metadata": {},
   "outputs": [
    {
     "name": "stdout",
     "output_type": "stream",
     "text": [
      "[1, 2, 3]\n"
     ]
    }
   ],
   "source": [
    "class NodeList:\n",
    "    def __init__(self, val=None, right=None):\n",
    "        self.val = val\n",
    "        self.right = right\n",
    "\n",
    "#数组转换成链表\n",
    "def arr_to_linklist(arr):\n",
    "    if not arr:\n",
    "        return None\n",
    "    head = NodeList(arr[0])\n",
    "    current = head\n",
    "    for val in arr[1:]:\n",
    "        current.right = NodeList(val)\n",
    "        current = current.right\n",
    "    return head\n",
    "\n",
    "#删除重复元素\n",
    "def delete_repeat_element(head):\n",
    "    if not head:\n",
    "        return None\n",
    "    current = head\n",
    "    while current and current.right:\n",
    "        if current.val == current.right.val:\n",
    "            current.right = current.right.right\n",
    "        else:\n",
    "            current = current.right\n",
    "    return head\n",
    "\n",
    "def linklist_to_arr(head):\n",
    "    arr = []\n",
    "    current = head\n",
    "    while current:\n",
    "        arr.append(current.val)\n",
    "        current=current.right\n",
    "    return arr\n",
    "\n",
    "def main(arr):\n",
    "    head = arr_to_linklist(arr)\n",
    "    head = delete_repeat_element(head)\n",
    "    arr = linklist_to_arr(head)\n",
    "    return arr\n",
    "\n",
    "input_array = [1, 1, 2, 3, 3]\n",
    "print(main(input_array))\n",
    "\n",
    "# your algorithm time complexity is:O(n)"
   ]
  },
  {
   "cell_type": "markdown",
   "metadata": {},
   "source": [
    "## 问题 2  \n",
    "\n",
    "> 下面是一个经典的算法问题：\n",
    ">\n",
    "> - 给定包含n个整数的一个整数数组 `nums` 和一个整数目标值 `target`，请你在该数组中找出 **和为目标值** *`target`* 的那 **两个** 整数，并返回它们的**数组下标**。假设每种输入只会对应一个答案。但是，数组中同一个元素在答案里不能重复出现。你可以按任意顺序返回答案。\n",
    ">\n",
    "> 由于要多次查找数组中元素的位置，为了提高查询效率可以使用哈希表来存储数组中的数据，在哈希表中查询一个元素的复杂度为O(1)。 已知python中的字典是使用哈希表实现的，即使用`dict[key]`查询对应的value时间复杂度为O(1), python提供了查询字典是否包含某个key的功能：`key in dict`，时间复杂度也是O(1)\n",
    "\n",
    "请根据上面信息，设计一个时间复杂度为O(n) 的算法，解决上述算法问题\n",
    "\n",
    "e.g.   \n",
    "\n",
    "输入：nums=[2,7,11,15], target=9， 输出：[0，1]\n",
    "\n",
    "输入：nums=[3,2,4], target=6, 输出：[1,2]\n",
    "\n",
    "输入：nums=[3,3], target=6,  输出：[0,1]\n"
   ]
  },
  {
   "cell_type": "code",
   "execution_count": 2,
   "metadata": {},
   "outputs": [
    {
     "name": "stdout",
     "output_type": "stream",
     "text": [
      "[0, 1]\n",
      "[1, 2]\n",
      "[0, 1]\n"
     ]
    }
   ],
   "source": [
    "def two_sum(nums, target):\n",
    "\n",
    "    hash_map = {}\n",
    "\n",
    "    for i, val in enumerate(nums):\n",
    "        diff = target - val # 做差找值\n",
    "        if diff in hash_map:\n",
    "            return [hash_map[diff], i]\n",
    "        hash_map[val] = i\n",
    "    return []\n",
    "\n",
    "print(two_sum([2, 7, 11, 15], 9))\n",
    "print(two_sum([3, 2, 4], 6))\n",
    "print(two_sum([3, 3], 6))\n",
    "\n",
    "# your algorithm time complexity is: O(n)"
   ]
  },
  {
   "cell_type": "markdown",
   "metadata": {},
   "source": [
    "## 问题 3:   \n",
    "\n",
    "> 栈是一种常用的数据结构，编译器中通常使用栈来实现表达式求值。\n",
    ">\n",
    "> 以表达式 $3+5 \\times 8-6$​ 为例。编译器使用两个栈来完成运算，即一个栈保持操作数，另一个栈保存运算符。\n",
    ">\n",
    "> 1. 从左向右遍历表达式，遇到数字就压入操作数栈；\n",
    ">\n",
    "> 2. 遇到运算符，就与运算符栈的栈顶元素进行比较。如果比运算符栈顶元素的优先级高，就将当前运算符压入栈；如果比运算符栈顶元素的优先级低或者相同，从运算符栈中取栈顶运算符，从操作数栈的栈顶取 2 个操作数，然后进行计算，再把计算完的结果压入操作数栈，继续比较。\n",
    ">\n",
    "> 下图是 $3+5 \\times 8-6$  这个表达式的计算过程：\n",
    "\n",
    "![figure](./fig/hw2q3.png)\n",
    "\n",
    "根据上述原理，请设计一个算法完成表达式的运算，当输入为表达式字符串，返回对应的计算结果。分析算法设计思路，计算时间复杂度，并基于python编程实现\n",
    "\n",
    "**note：**\n",
    "\n",
    "1. 假设输入的表达式只会出现加（“+”），减 “-”， 乘“*”，除 “/” 四个运算符, 表达式中只会出现正整数\n",
    "2. python中` str.isdigit()`函数可以判断字符串str是否为数字，\n",
    "\n",
    "\n",
    "\n",
    "e.g. :\n",
    "---\n",
    "\n",
    "1. 输入：“$3+5 * 8 -6$”   输出：37\n",
    "\n",
    "2. 输入：“$34+13*9 + 44-12/3$”  输出：191"
   ]
  },
  {
   "cell_type": "markdown",
   "metadata": {},
   "source": [
    "idea：先定义运算符的优先级，然后初始化一个操作数栈和一个运算符栈。外层循环传入表达式的总长度次，然后检查传入如果为数字只需要入栈即可，因为数字优先级一样，内层在嵌套一个循环处理多位数。若为操作符需要先检查一下优先级，优先级高则需要将操作数栈中的数出栈，然后与操作符运算以后将数重新入栈，反之运算符直接入栈。这样就处理好了所有优先级高的运算符，最后把剩下的运算符与操作数进行运算即可。\n",
    "![figure](./fig/hw2q3-2.png)"
   ]
  },
  {
   "cell_type": "code",
   "execution_count": 3,
   "metadata": {},
   "outputs": [
    {
     "name": "stdout",
     "output_type": "stream",
     "text": [
      "37\n",
      "191\n"
     ]
    }
   ],
   "source": [
    "def sum(expression):\n",
    "\n",
    "    p = {'+': 1, '-': 1, '*': 2, '/': 2}\n",
    "    nums = []\n",
    "    operators = []\n",
    "    i = 0\n",
    "\n",
    "    while i < len(expression):\n",
    "        str = expression[i]\n",
    "\n",
    "        if str.isdigit():\n",
    "            number = 0\n",
    "            while i < len(expression) and expression[i].isdigit():\n",
    "                number = number * 10 + int(expression[i])\n",
    "                i += 1\n",
    "            nums.append(number)\n",
    "\n",
    "        elif str in p:\n",
    "            while operators and operators[-1] in p and p[operators[-1]] >= p[str]:\n",
    "                operator = operators.pop()\n",
    "                b = nums.pop()\n",
    "                a = nums.pop()\n",
    "                if operator == '+':\n",
    "                    nums.append(a + b)\n",
    "                elif operator == '-':\n",
    "                    nums.append(a - b)\n",
    "                elif operator == '*':\n",
    "                    nums.append(a * b)\n",
    "                elif operator == '/':\n",
    "                    nums.append(a // b)\n",
    "            operators.append(str)\n",
    "            i += 1\n",
    "\n",
    "    while operators:\n",
    "        operator = operators.pop()\n",
    "        b = nums.pop()\n",
    "        a = nums.pop()\n",
    "        if operator == '+':\n",
    "            nums.append(a + b)\n",
    "        elif operator == '-':\n",
    "            nums.append(a - b)\n",
    "        elif operator == '*':\n",
    "            nums.append(a * b)\n",
    "        elif operator == '/':\n",
    "            nums.append(a // b)\n",
    "\n",
    "    return nums[0]\n",
    "print(sum(\"3+5*8-6\"))\n",
    "print(sum(\"34+13*9+44-12/3\"))\n",
    "# your algorithm time complexity is: O(n)"
   ]
  },
  {
   "cell_type": "markdown",
   "metadata": {},
   "source": [
    "## 问题 4:  \n",
    "\n",
    "> 星球碰撞问题：现有n个星球，在同一条直线上运行，如数组A所示，元素的绝对值表示星球的质量，负数表示星球自右向左运动，正数表示星球自左向右运动，当两个星球相撞的时候，质量小的会消失，大的保持不变，**质量相同的两个星球碰撞后自右向左运动的星球消失，自左向右的星球保持不变**，假设所有星球的速度大小相同。\n",
    ">\n",
    "> $ A=[23,-8, 9, -3, -7, 9, -23, 22] $\n",
    "\n",
    "请设计一个算法模拟星球的运行情况，输出最终的星球存续情况（输出一个数组），分析算法设计思路，计算时间复杂度，并基于python编程实现。\n",
    "\n",
    "e.g.\n",
    "---\n",
    "1.  输入： A=[-3,-6,2,8, 5,-8,9,-2,1]， 输出：[-3, -6, 2, 8, 9, 1]\n",
    "\n",
    "2. 输入：A=[23,-8, 9, -3, -7, 9, -23, 22], 输出：[23, 22]"
   ]
  },
  {
   "cell_type": "markdown",
   "metadata": {
    "collapsed": false,
    "jupyter": {
     "outputs_hidden": false
    }
   },
   "source": [
    "idea:定义一个stack空栈用来存放存活着的星球，规定如果右移星球直接入栈，再用survive来判断左移星球是否存活后在来判断是否入栈。一开始初始化左移星球存活为True，当栈里面为空，或者有左移的星球直接入栈即可，因为不会发生碰撞。如果栈中有右移星球，则需要比较一下质量，每次都取栈顶进行比较。如果栈顶的右移星球质量大，那么当前左移星球则消失survive为False。右移星球质量小，那么在栈顶的右移星球直接弹出栈中即为消失。质量相等，就直接将当前左移的星球消失即可survive为False。最后返回栈中元素即可。\n",
    "![figure](./fig/hw2q4.png)"
   ]
  },
  {
   "cell_type": "code",
   "execution_count": 4,
   "metadata": {
    "collapsed": false,
    "jupyter": {
     "outputs_hidden": false
    },
    "pycharm": {
     "name": "#%%\n"
    }
   },
   "outputs": [
    {
     "name": "stdout",
     "output_type": "stream",
     "text": [
      "输出： [-3, -6, 2, 8, 9, 1]\n",
      "输出： [23, 22]\n"
     ]
    }
   ],
   "source": [
    "def Collision(A):\n",
    "    stack = []\n",
    "    for i in A:\n",
    "        if i > 0: #右移星球入栈\n",
    "            stack.append(i)\n",
    "        else:\n",
    "            survive = True #初始化左移星球存活为True\n",
    "            while stack and stack[-1] > 0:\n",
    "                top = stack[-1]\n",
    "                if top > -i:\n",
    "                    survive = False\n",
    "                    break\n",
    "                elif top < -i:\n",
    "                    stack.pop()\n",
    "                else:\n",
    "                    survive = False\n",
    "                    break\n",
    "            if survive:\n",
    "                stack.append(i)\n",
    "    return stack\n",
    "\n",
    "A1 = [-3, -6, 2, 8, 5, -8, 9, -2, 1]\n",
    "A2 = [23, -8, 9, -3, -7, 9, -23, 22]\n",
    "print(\"输出：\", Collision(A1))\n",
    "print(\"输出：\", Collision(A2))\n",
    "# your algorithm time complexity is: O(n^2)"
   ]
  },
  {
   "cell_type": "markdown",
   "metadata": {
    "collapsed": false,
    "jupyter": {
     "outputs_hidden": false
    }
   },
   "source": [
    "## 问题 5 \n",
    "\n",
    "> 给定一个无序数组nums=[9,-3,-10,0,9,7,33]，请建立一个二叉搜索树存储数组中的所有元素，之后删除二叉树中的元素“0”，再使用中序遍历输出二叉搜索树中的所有元素。\n",
    "\n",
    "使用python编程完成上述任务，并计算时间复杂度"
   ]
  },
  {
   "cell_type": "markdown",
   "metadata": {
    "collapsed": false,
    "jupyter": {
     "outputs_hidden": false
    }
   },
   "source": [
    "idea:\n",
    "\n",
    "首先定义一个二叉树结点类，包含3个属性，分别有左右结点和他们的值val。然后将这个无序数组插入二叉树中去，如果当前根结点为空，插入并返回。如果val小于根节点，插入左子树，反之插入右子树，最后返回根。\n",
    "\n",
    "然后查找二叉树中最小的结点，因为左子树的所有结点都小于根，所以从根开始，一直遍历左边，直到找到最左边的结点，就是最小的结点。\n",
    "\n",
    "删除0结点，先判断一下是否非空，若不为空，就用0和根的值作比较，若小于就说明可能在左子树，反之可能在右子树。在判断后继续进行下一步判断，以此递归的调用函数判断下去。\n",
    "找到一个0，就是刚好指向这个结点的。如果这个结点没有左子结点，直接用右子结点替代即可删除，没有右子结点，用左子结点替代也可以实现删除。\n",
    "\n",
    "初始化一个列表，用于存储中序遍历结果。如果root为空直接返回。如果根的左子树存在再递归的调用左子树进行中序遍历，以此类推存在列表里。根结点和右子树也如此，最后合并列表就得到了中序遍历结果。\n",
    "\n",
    "![figure](./fig/hw2q5.png)"
   ]
  },
  {
   "cell_type": "code",
   "execution_count": 5,
   "metadata": {},
   "outputs": [
    {
     "name": "stdout",
     "output_type": "stream",
     "text": [
      "[-10, -3, 7, 9, 9, 33]\n"
     ]
    }
   ],
   "source": [
    "class TreeNode:\n",
    "    def __init__(self, val=0, left=None, right=None):\n",
    "        self.val = val\n",
    "        self.left = left\n",
    "        self.right = right\n",
    "\n",
    "# 插入节点到二叉搜索树\n",
    "def insert(root, val):\n",
    "    if root is None:\n",
    "        return TreeNode(val)\n",
    "    if val < root.val:\n",
    "        root.left = insert(root.left, val)\n",
    "    else:\n",
    "        root.right = insert(root.right, val)\n",
    "    return root\n",
    "\n",
    "# 查找最小节点\n",
    "def find_min(node):\n",
    "    while node.left is not None:\n",
    "        node = node.left\n",
    "    return node\n",
    "\n",
    "# 删除0\n",
    "def delete_node(root):\n",
    "    if root is None:\n",
    "        return root\n",
    "    if 0 < root.val:\n",
    "        root.left = delete_node(root.left)\n",
    "    elif 0 > root.val:\n",
    "        root.right = delete_node(root.right)\n",
    "    else:\n",
    "        if root.left is None:\n",
    "            return root.right\n",
    "        elif root.right is None:\n",
    "            return root.left\n",
    "    return root\n",
    "\n",
    "# 中序遍历\n",
    "def inorder_traversal(root):\n",
    "    result = []\n",
    "    if root:\n",
    "        result = inorder_traversal(root.left)\n",
    "        result.append(root.val)\n",
    "        result = result + inorder_traversal(root.right)\n",
    "    return result\n",
    "\n",
    "\n",
    "# 主函数\n",
    "nums = [9, -3, -10, 0, 9, 7, 33]\n",
    "root = None\n",
    "for num in nums:# 构建二叉搜索树\n",
    "    root = insert(root, num)\n",
    "root = delete_node(root)# 删除0\n",
    "print(inorder_traversal(root))# 中序遍历输出结果\n",
    "\n",
    "# your algorithm time complexity is: O(n^2)"
   ]
  },
  {
   "cell_type": "markdown",
   "metadata": {},
   "source": [
    "## 问题 6  \n",
    "\n",
    "> 给定一个包含大写字母和小写字母的字符串 s ，返回 字符串包含的 **最长的回文子串的长度** 。请注意 区分大小写 。比如 \"Aa\" 不能当做一个回文字符串。\n",
    ">\n",
    "\n",
    "请设计一个算法解决上述问题，只需要输出最长回文子串的长度，分析算法设计思路，计算时间复杂度，并基于python编程实现\n",
    "\n",
    "e.g. 输入： s=\"adccaccd\"，  输出：7。 最长回文子串为：\"dccaccd\", 长度为7\n"
   ]
  },
  {
   "cell_type": "markdown",
   "metadata": {},
   "source": [
    "idea：首先定义一个从中心位置开始像两边扩招判断是否是回文的函数，返回right-left-1就是当前回文的长度。然后通过字符串的长度以单个字符为中心，调用函数来得到当前回文长度值len1，再以2个字符为中心来调用函数得到当前回文长度值len2。然后取len1和len2的最大值改更新当前最大current_max，再比较更新最大max_length。以此类推遍历整个字符串的长度，即可得到最大长度。"
   ]
  },
  {
   "cell_type": "code",
   "execution_count": 6,
   "metadata": {},
   "outputs": [
    {
     "name": "stdout",
     "output_type": "stream",
     "text": [
      "7\n"
     ]
    }
   ],
   "source": [
    "def get_len(s):\n",
    "    def mid_extend(left, right):\n",
    "        while left >= 0 and right < len(s) and s[left] == s[right]:\n",
    "            left -= 1\n",
    "            right += 1\n",
    "        return right - left - 1 # 返回当前回文串的长度\n",
    "\n",
    "    max_length = 0\n",
    "    for i in range(len(s)):\n",
    "        len1 = mid_extend(i, i)# 以单个字符为中心扩展\n",
    "        len2 = mid_extend(i, i + 1)# 以两个字符为中心扩展\n",
    "\n",
    "        current_max = max(len1, len2)\n",
    "        max_length = max(max_length, current_max)\n",
    "    return max_length\n",
    "\n",
    "s = \"adccaccd\"\n",
    "print(get_len(s))\n",
    "\n",
    "# your algorithm time complexity is:O(n^2)"
   ]
  },
  {
   "cell_type": "markdown",
   "metadata": {},
   "source": [
    "## 问题 7 \n",
    "\n",
    "> 沿一条长河流分散着n座房子。你可以把这条河想象成一条轴，房子是由它们在这条轴上的坐标按顺序排列的。你的公司想在河边的特定地点设置手机基站，这样每户人家都在距离基站4公里的范围内。输入可以看作为一个升序数组，数组元素的取值为大于等于0的正整数，你需要输出最小基站的数目，基站的位置。\n",
    "\n",
    "1. 给出一个时间复杂度为$O(n$) 的算法，使所使用的基站数量最小化，分析算法设计思路，使用python编程实现\n",
    "2. 证明1.中算法产生了最优解决方案。\n",
    "\n",
    "e.g. \n",
    "\n",
    "输入： [1, 5, 12, 33, 34,35]  输出：基站数目为3， 基站位置为[1，12，33]\n",
    "\n"
   ]
  },
  {
   "cell_type": "markdown",
   "metadata": {},
   "source": [
    "idea：采用贪心算法的思想，因为房子位置是按升序排序，所以每建立一个基站为了尽可能多的去覆盖房子。对于每个基站最远可以选择基站位置右侧的4公里处，然后再进行下一步判断。所以要确定基站位置，找到基站位置以后如果在范围内4公里有房子则无需再建立基站，然后再跳过所有范围内的房子，找到不在范围内的一个房子从而进行下一步建立基站。\n",
    "\n",
    "时间复杂度：因为每个房子再确定基站被访问一次，确定范围被访问一次，所以时间复杂度为O(n)\n",
    "![figure](./fig/hw2q7.png)"
   ]
  },
  {
   "cell_type": "code",
   "execution_count": 7,
   "metadata": {},
   "outputs": [
    {
     "name": "stdout",
     "output_type": "stream",
     "text": [
      "基站数目为3，基站位置为[1, 12, 33]\n"
     ]
    }
   ],
   "source": [
    "def min_stations(houses):\n",
    "    S = []\n",
    "    i = 0\n",
    "    while i < len(houses):\n",
    "        station = houses[i]\n",
    "        S.append(station)\n",
    "\n",
    "        while i < len(houses) and houses[i] <= station + 4:\n",
    "            i += 1\n",
    "\n",
    "        while i < len(houses) and houses[i] <= station + 8:\n",
    "            i += 1\n",
    "\n",
    "    return len(S), S\n",
    "\n",
    "houses = [1, 5, 12, 33, 34, 35]\n",
    "num_stations, station_positions = min_stations(houses)\n",
    "print(f\"基站数目为{num_stations}，基站位置为{station_positions}\")\n",
    "# your algorithm time complexity is:O(n)"
   ]
  },
  {
   "cell_type": "markdown",
   "metadata": {},
   "source": [
    "## 问题 8  \n",
    "\n",
    "> 给定由n个正整数组成的一个集合$S = \\{a_1, a_2，···，a_n\\}$和一个正整数W，设计一个算法确定是否存在S的一个子集 $K \\subseteq S$, 使K中所有数之和为 $W$, 如果存在返回“True”，否则返回“False”\n",
    "\n",
    "请设计一个时间复杂度为$O(nW)$动态规划算法，解决上述问题，分析算法的设计思路，并且基于python编程实现（不需要输出子集）。\n",
    "\n",
    "e.g. \n",
    "\n",
    "输入：S = {1,4,7,3,5}， W = 11，输出：True。   因为K可以是{4,7}。\n",
    "\n"
   ]
  },
  {
   "cell_type": "markdown",
   "metadata": {},
   "source": [
    "idea：首先我们创建一个布尔类型的二维数组，用dp[i][j]来表示前i个元素中是否存在一个子集和为j。然后通过循环来判断，外层循环考虑前i个元素，内层循环从0到w表示目标，对于每个dp[i][j]如果j小于s[i-1]，则当前这个元素不能被园中，因为它的值已经大于目标和所要求的和了。反之，就要考虑两种情况，不选择就是dp[i][j] = dp[i-1][j]，那么就去考虑前i−1个元素中是否存在一个子集，其和为j。另一种情况就是选择当前元素dp[i][j]= dp[i-1][j - S[i-1]]，最后返回即可。\n",
    "\n",
    "时间复杂度：两层循环，外层时间复杂度O(n)，内层时间复杂度O(W)，总的时间复杂度O(n*W)"
   ]
  },
  {
   "cell_type": "code",
   "execution_count": 8,
   "metadata": {},
   "outputs": [
    {
     "name": "stdout",
     "output_type": "stream",
     "text": [
      "True\n"
     ]
    }
   ],
   "source": [
    "def subset_sum(S, W):\n",
    "    n = len(S)\n",
    "    dp = [[False] * (W + 1) for _ in range(n + 1)]\n",
    "    dp[0][0] = True\n",
    "\n",
    "    for i in range(1, n + 1):\n",
    "        for j in range(W + 1):\n",
    "            if j < S[i-1]:\n",
    "                dp[i][j] = dp[i-1][j]\n",
    "            else:\n",
    "                dp[i][j] = dp[i-1][j] or dp[i-1][j - S[i-1]]\n",
    "\n",
    "    return dp[n][W]\n",
    "\n",
    "\n",
    "S = [1, 4, 7, 3, 5]\n",
    "W = 11\n",
    "print(subset_sum(S, W))\n",
    "# your algorithm time complexity is: O(nW)"
   ]
  },
  {
   "cell_type": "markdown",
   "metadata": {},
   "source": [
    "\n",
    "\n",
    "## 问题 9 \n",
    "\n",
    "> 给定一个n个物品的集合。物体的重量为$w_1, w_2，…、w_n$，物品的价值分别是$v_1、v_2、…v_n$。给你**两个**重量为 $c$ 的背包。如果你带了一个东西，它可以放在一个背包里，也可以放在另一个背包里，但不能同时放在两个背包里。所有权重和价值都是正整数。\n",
    "\n",
    "1. 设计一个时间复杂度为 $O(nc^2)$ 的动态规划算法，确定可以放入两个背包的物体的最大价值。分析算法设计思路，并基于python编程实现\n",
    "2. \\* 修改1中的算法，输出每个背包的内容（物品对应下标）。\n",
    "\n",
    "e.g.: \n",
    "\n",
    "输入 V=[1,3,2,5,8,7], W=[1,3,2,5,8,7], c=7, 输出：最大价值=14，背包装的物品为：[6] [4，3] （同一个背包中物品装入顺序对结果无影响）  \n"
   ]
  },
  {
   "cell_type": "markdown",
   "metadata": {},
   "source": [
    "idea：定义一个三维数组dp[i][j][k]，来表示考虑前i个物品时，第一个背包的容量为j，第二个背包的容量为k时的最大价值，并且把塔恩初始化为0。外层循环i来考虑前i个物品，中间循环考虑第一个背包的容量，内层循环考虑第二个背包的容量。对于每个状态有三种选择，一是不选择当前的物品，二是将当前物品放入第一个背包，三是将当前物品放入第二个背包，放入背包这里需要判断一下背包的容量。\n",
    "\n",
    "时间复杂度：为三层循环时间复杂度的乘积"
   ]
  },
  {
   "cell_type": "code",
   "execution_count": 9,
   "metadata": {},
   "outputs": [
    {
     "name": "stdout",
     "output_type": "stream",
     "text": [
      "最大价值=14\n"
     ]
    }
   ],
   "source": [
    "def max_value_two_knapsacks(V, W, c):\n",
    "    n = len(V)\n",
    "    dp = [[[0] * (c + 1) for _ in range(c + 1)] for _ in range(n + 1)]\n",
    "\n",
    "    for i in range(1, n + 1):\n",
    "        for j in range(c + 1):\n",
    "            for k in range(c + 1):\n",
    "                dp[i][j][k] = dp[i-1][j][k]\n",
    "                if j >= W[i-1]:\n",
    "                    dp[i][j][k] = max(dp[i][j][k], dp[i-1][j - W[i-1]][k] + V[i-1])\n",
    "                if k >= W[i-1]:\n",
    "                    dp[i][j][k] = max(dp[i][j][k], dp[i-1][j][k - W[i-1]] + V[i-1])\n",
    "\n",
    "    return dp[n][c][c]\n",
    "\n",
    "\n",
    "V = [1, 3, 2, 5, 8, 7]\n",
    "W = [1, 3, 2, 5, 8, 7]\n",
    "c = 7\n",
    "max_value = max_value_two_knapsacks(V, W, c)\n",
    "print(f\"最大价值={max_value}\")\n",
    "# your algorithm time complexity is: O(nc^2)"
   ]
  },
  {
   "cell_type": "markdown",
   "metadata": {},
   "source": [
    "## 问题 10 \n",
    "\n",
    "> 给定两个字符串 $x[1..n]$ 和 $y[1..m]$，我们想通过以下操作将 $x$ 变换为 $y$ :\n",
    ">\n",
    "> **插入**：在 $x$ 中插入一个字符(在任何位置)；**删除**：从 $x$ 中删除一个字符(在任何位置)； **替换**：用另一个字符替换 $x$ 中的一个字符。\n",
    ">\n",
    "> 例如: $x = abcd$, $y = bcfe$，\n",
    ">\n",
    "> - 将 $x$ 转换为 $y$ 的一种可能方法是：1. 删除 $x$ 开头的 $a$, $x$变成 $bcd$； 2. 将 $x$ 中的字符 $d$ 替换为字符 $f$。$x$ 变成 $bcf$； 3. 在 $x$ 的末尾插入字符 $e$。$x$ 变成 $bcfe$。\n",
    ">\n",
    "> - 另一种可能的方法：1. 删除 $x$ 开头的 $a$,  $x$ 变成 $bcd$； 2. 在 $x$ 中字符 $d$ 之前插入字符 $f$。$x$ 变成 $bcfd$。3. 将 $x$ 中的字符 $d$ 替换为字符 $e$。$x$ 变成 $bcfe$。\n",
    "\n",
    "设计一个时间复杂度为 $O(mn)$ 的算法，返回将 $x$ 转换为 $y$ 所需的最少操作次数。分析算法设计思路，并基于python编程实现。\n"
   ]
  },
  {
   "cell_type": "markdown",
   "metadata": {},
   "source": [
    "idea：使用动态规划，数组dp[i][j]表示将字符串x[0..i-1]转换为y[0..j-1]所需的最小操作次数。判断一下边界条件，如果等于i就删除x的前i个字符，如果等于j，就插入y的前j个字符，如果x[i-1]==y[j-1]，就无需操作，否则就取三种操作的最小值。\n",
    "\n",
    "时间复杂度：双重循环，外层遍历的时间复杂度为O(n),内层为O(m)，总的为O(n*m)"
   ]
  },
  {
   "cell_type": "code",
   "execution_count": 1,
   "metadata": {},
   "outputs": [
    {
     "name": "stdout",
     "output_type": "stream",
     "text": [
      "3\n"
     ]
    }
   ],
   "source": [
    "def min_edit(x, y):\n",
    "    n, m = len(x), len(y)\n",
    "    dp = [[0] * (m + 1) for _ in range(n + 1)]\n",
    "\n",
    "    for i in range(n + 1):\n",
    "        dp[i][0] = i\n",
    "    for j in range(m + 1):\n",
    "        dp[0][j] = j\n",
    "\n",
    "    for i in range(1, n + 1):\n",
    "        for j in range(1, m + 1):\n",
    "            if x[i-1] == y[j-1]:\n",
    "                dp[i][j] = dp[i-1][j-1]\n",
    "            else:\n",
    "                dp[i][j] = min(\n",
    "                    dp[i-1][j] + 1,\n",
    "                    dp[i][j-1] + 1,\n",
    "                    dp[i-1][j-1] + 1\n",
    "                )\n",
    "\n",
    "    return dp[n][m]\n",
    "\n",
    "x = \"abcd\"\n",
    "y = \"bcfe\"\n",
    "print(min_edit(x, y))\n",
    "# your algorithm time complexity is: O(mn)"
   ]
  },
  {
   "cell_type": "code",
   "execution_count": null,
   "metadata": {
    "collapsed": false,
    "jupyter": {
     "outputs_hidden": false
    },
    "pycharm": {
     "name": "#%%\n"
    }
   },
   "outputs": [],
   "source": []
  },
  {
   "cell_type": "code",
   "execution_count": null,
   "metadata": {
    "collapsed": false,
    "jupyter": {
     "outputs_hidden": false
    },
    "pycharm": {
     "name": "#%%\n"
    }
   },
   "outputs": [],
   "source": []
  },
  {
   "cell_type": "code",
   "execution_count": null,
   "metadata": {
    "collapsed": false,
    "jupyter": {
     "outputs_hidden": false
    },
    "pycharm": {
     "name": "#%%\n"
    }
   },
   "outputs": [],
   "source": []
  },
  {
   "cell_type": "code",
   "execution_count": null,
   "metadata": {
    "collapsed": false,
    "jupyter": {
     "outputs_hidden": false
    },
    "pycharm": {
     "name": "#%%\n"
    }
   },
   "outputs": [],
   "source": []
  },
  {
   "cell_type": "code",
   "execution_count": null,
   "metadata": {},
   "outputs": [],
   "source": []
  },
  {
   "cell_type": "code",
   "execution_count": null,
   "metadata": {},
   "outputs": [],
   "source": []
  },
  {
   "cell_type": "code",
   "execution_count": null,
   "metadata": {},
   "outputs": [],
   "source": []
  },
  {
   "cell_type": "code",
   "execution_count": null,
   "metadata": {},
   "outputs": [],
   "source": []
  }
 ],
 "metadata": {
  "kernelspec": {
   "display_name": "Python 3 (ipykernel)",
   "language": "python",
   "name": "python3"
  },
  "language_info": {
   "codemirror_mode": {
    "name": "ipython",
    "version": 3
   },
   "file_extension": ".py",
   "mimetype": "text/x-python",
   "name": "python",
   "nbconvert_exporter": "python",
   "pygments_lexer": "ipython3",
   "version": "3.8.0"
  }
 },
 "nbformat": 4,
 "nbformat_minor": 4
}