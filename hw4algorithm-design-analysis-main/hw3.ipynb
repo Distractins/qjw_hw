{
 "cells": [
  {
   "cell_type": "markdown",
   "metadata": {},
   "source": [
    "## algorithm design and anlysis-2025 spring  homework 3\n",
    "**Deadline**：2025.5.14\n",
    "\n",
    "**name**:\n",
    "\n",
    "\n",
    "note：\n",
    "---\n",
    "1. 带有\\*的题目，申请免上课的同学，必须完成，其他同学选作；\n",
    "2. 请独立完成，如求助了他人或者大模型，请著明，并且不可省略算法分析部分；\n",
    "4. 如若作答有雷同，全部取消成绩；\n",
    "3. 需要书面作答的题目，可以通过引用图片的形式添加，但是注意上传项目时包含所引用的图片的源文件；\n",
    "4. $log_n$ 默认表示$log_2{n}$;"
   ]
  },
  {
   "cell_type": "markdown",
   "metadata": {},
   "source": [
    "## 问题 1  \n",
    "\n",
    "请证明基于比较的排序算法计算复杂度下界为$\\Omega(nlogn)$"
   ]
  },
  {
   "cell_type": "markdown",
   "metadata": {},
   "source": [
    "![figure](./fig/hw3q1.png)"
   ]
  },
  {
   "cell_type": "markdown",
   "metadata": {},
   "source": [
    "## 问题 2 \n",
    "\n",
    "构建二叉搜索树\n",
    "\n",
    "> 1. 给定一个数组 [48, 33, 49, 47, 42, 46, 32], 构建一个二叉搜索树存储这些数据，请**绘制**所构建的**二叉搜索树**（标明结点的值）。\n",
    "> 2. 从第1问的二叉搜索树中删除33，请**绘制**删除33后的**二叉搜索树**（标明结点的值）\n",
    "\n",
    "- 推荐使用graphviz包绘制树的结构"
   ]
  },
  {
   "cell_type": "markdown",
   "metadata": {},
   "source": [
    "![figure](./fig/hw3q2.png)"
   ]
  },
  {
   "cell_type": "markdown",
   "metadata": {},
   "source": [
    "## 问题 3 \n",
    "\n",
    "> 下面是九门课程的开始和结束时间:\n",
    ">\n",
    "> [(9:00,12:30), (11:00,14:00), (13:00, 14:30), (9:00,10:30),(13:00, 14:30),(14:00,16:30), (15:00,16:30), (15:00,16:30), (9:00,10:30)]\n",
    ">\n",
    "> 请使用贪婪算法为这九门课分配教室，要求在同一天内安排这些课，并且每个教室同一时间只能安排一门课。\n",
    "\n",
    "**请问最少需要几间教室，罗列出每个教室安排的课程**"
   ]
  },
  {
   "cell_type": "markdown",
   "metadata": {},
   "source": [
    "idea：贪婪算法的原理是通过找到局部最优解从而找到全局最优解，那么首先可以把课程的开始和结束时间看作一个二维数组，然后我们对开始时间进行排序，将开始时间最早的放在前面。然后定义一个classrooms的列表，来表示教室的课程安排，以及方便最后返回教室的数量。定义一个bool类型的指标assigned来表示教室是否被分配。\n",
    "\n",
    "遍历课程，每次遍历一个新课程的时候都需要初始化一下被分配的状态为False。对于每一门课程，检查当前已有的教室是否可以安排这门课程，然后遍历当前所有教室，当前教室的最后一门课程的结束时间早于或等于这门课程的开始时间，则将这门课程安排到该教室，那么该课程即为被分配。\n",
    "\n",
    "如果遍历完以后都没有教室可以安排assigned为False，则新开一个教室，最后返回教室列表即可。\n",
    "![figure](./fig/hw3q3.png)"
   ]
  },
  {
   "cell_type": "code",
   "execution_count": 1,
   "metadata": {
    "vscode": {
     "languageId": "plaintext"
    }
   },
   "outputs": [
    {
     "name": "stdout",
     "output_type": "stream",
     "text": [
      "最少需要的教室数量：3\n",
      "教室 1 安排的课程：[(9, 12.5), (13, 14.5), (15, 16.5)]\n",
      "教室 2 安排的课程：[(9, 10.5), (11, 14), (14, 16.5)]\n",
      "教室 3 安排的课程：[(9, 10.5), (13, 14.5), (15, 16.5)]\n"
     ]
    }
   ],
   "source": [
    "def classrooms(courses):\n",
    "\n",
    "    courses.sort(key=lambda x: x[0]) # 按照课程的开始时间排序\n",
    "    classrooms = []  # 存储每个教室的课程安排\n",
    "\n",
    "    for course in courses:\n",
    "        assigned = False\n",
    "        for classroom in classrooms:\n",
    "            if course[0] >= classroom[-1][1]:\n",
    "                classroom.append(course)\n",
    "                assigned = True\n",
    "                break\n",
    "        if not assigned:\n",
    "            classrooms.append([course])  # 新开一个教室\n",
    "    return classrooms\n",
    "\n",
    "\n",
    "courses = [(9, 12.5), (11, 14), (13, 14.5), (9, 10.5), (13, 14.5), (14, 16.5), (15, 16.5), (15, 16.5), (9, 10.5)]\n",
    "classrooms = classrooms(courses)\n",
    "\n",
    "print(f\"最少需要的教室数量：{len(classrooms)}\")\n",
    "for i, classroom in enumerate(classrooms):\n",
    "    print(f\"教室 {i + 1} 安排的课程：{classroom}\")\n",
    "\n",
    "# your algorithm time complexity is: O(nlogn)"
   ]
  },
  {
   "cell_type": "markdown",
   "metadata": {},
   "source": [
    "## 问题 4 \n",
    "\n",
    "> 爬楼梯问题：假设爬楼梯时你每次只能爬一阶或者爬两阶，问爬上n阶的楼梯，你一共有多少种方法\n",
    "\n",
    "请设计算法完成该问题，分析算法设计思路，计算时间复杂度，并基于python编程实现"
   ]
  },
  {
   "cell_type": "markdown",
   "metadata": {},
   "source": [
    "idea：用n来表示爬楼梯的步数，初始化dp列表来存储方法的数量。n等于0或1都只有一种爬楼的方法，返回1即可。n等于2返回2。在后续的步数里面，一开始都是走一步或者两步，然后在剩下的步数里面继续分成走一步或者走两步，继续划分下去就是递归的调用一步或两步，将他们加起来，直到步数为我们初始化的值就能找到正确的方法数。\n",
    "\n",
    "![figure](./fig/hw3q4.png)"
   ]
  },
  {
   "cell_type": "code",
   "execution_count": 2,
   "metadata": {},
   "outputs": [
    {
     "name": "stdout",
     "output_type": "stream",
     "text": [
      "8\n"
     ]
    }
   ],
   "source": [
    "def climb(n):\n",
    "    if n == 0 or n == 1:\n",
    "        return 1\n",
    "    dp = [0] * (n+1)\n",
    "    dp[0] = 1\n",
    "    dp[1] = 1\n",
    "    dp[2] = 2\n",
    "    for i in range(3, n+1):\n",
    "        dp[i] = dp[i-1] + dp[i-2]\n",
    "    return dp[n]\n",
    "n = 5\n",
    "print(climb(n))\n",
    "# your algorithm time complexity is: O(n)"
   ]
  },
  {
   "cell_type": "markdown",
   "metadata": {},
   "source": [
    "## 问题 5 \n",
    "\n",
    "> 0-1背包问题：现在有4块大理石，每个大理石对应的重量和价值使用一个元组表示, 即（重量，价值），4块大理石的重量和价值为：[(5,10), (4,40), (6,30), (3, 50)], 假设你有一辆最大承重为9的小推车，请问使用这个小推车装大理石的最大价值为多少\n",
    "\n",
    "请设计一个算法解决该问题，分析算法设计思路，计算时间复杂度，并基于python编程实现"
   ]
  },
  {
   "cell_type": "markdown",
   "metadata": {},
   "source": [
    "idea：初始化一个二维数组dp[i][j]，i表示某一块大理石，j表示背包的容量，dp来表示最大价值。用weights和values来存储大理石的重量和价值。遍历大理石的个数，用外层循环来考虑每一块大理石。用内层循环来考虑背包的容量，以此来和大理石的质量和价值进行比较，考虑是否放入背包中。如果背包容量大于等于当前大理石的重量，才会考虑当前大理石是否放入背包中。然后计算当前大理石价值，然后比较取最大值即可。\n",
    "\n",
    "时间复杂度：外层循环n此，内层循环c+1次，所以为n*（c+1），c+1和c同阶可以简化。O（n*c）"
   ]
  },
  {
   "cell_type": "code",
   "execution_count": 1,
   "metadata": {},
   "outputs": [
    {
     "name": "stdout",
     "output_type": "stream",
     "text": [
      "最大价值=90\n"
     ]
    }
   ],
   "source": [
    "def max_value_knapsack(items, c):\n",
    "    n = len(items)\n",
    "    dp = [[0] * (c + 1) for _ in range(n + 1)]\n",
    "    weights = [item[0] for item in items]\n",
    "    values = [item[1] for item in items]\n",
    "\n",
    "    for i in range(1, n + 1):\n",
    "        for j in range(c + 1):\n",
    "            dp[i][j] = dp[i - 1][j]\n",
    "            if j >= weights[i - 1]:\n",
    "                value_if_choose = dp[i - 1][j - weights[i - 1]] + values[i - 1]  # 计算价值\n",
    "                dp[i][j] = max(dp[i][j], value_if_choose)  # 比较\n",
    "    return dp[n][c]\n",
    "\n",
    "items = [(5, 10), (4, 40), (6, 30), (3, 50)]\n",
    "c = 9\n",
    "max_value = max_value_knapsack(items, c)\n",
    "print(f\"最大价值={max_value}\")\n",
    "\n",
    "# your algorithm time complexity is:O（n*c）"
   ]
  },
  {
   "cell_type": "markdown",
   "metadata": {},
   "source": [
    "## 问题 6 \n",
    "给定 `n` 个非负整数表示每个宽度为 `1` 的柱子的高度图，计算按此排列的柱子，下雨之后能接多少雨水。\n",
    "\n",
    "\n",
    "\n",
    "<div style=\"text-align:center;width:800px;\"> <img alt=\"\" src=\"./fig/hw3q6.png\"> </div>\n",
    "\n",
    "请分析算法设计思路，计算时间复杂度，并基于python编程实现"
   ]
  },
  {
   "cell_type": "markdown",
   "metadata": {},
   "source": [
    "idea：left, right用左右两个指针来确定柱子高度的左右方，用water来表示储水量。用while循环来判断左右两个指针是否遍历完所有的水柱。如果左边水柱高度小于右边，则需要移动左边指针，反之则需要移动右边指针。移动以后需要确定一下最高水柱，并且做差就可以得到储水的高度。如果当前位置的水柱高度为最大，那么做差就是为0，进一步移动可以继续通过做差得到储水的高度，然后把他们累加起来就是总的储水量。\n",
    "\n",
    "时间复杂度：两个指针遍历一遍所有水柱，为O(n)\n",
    "![figure](./fig/hw3q6-1.png)\n",
    "![figure](./fig/hw3q6-2.png)"
   ]
  },
  {
   "cell_type": "code",
   "execution_count": 2,
   "metadata": {},
   "outputs": [
    {
     "name": "stdout",
     "output_type": "stream",
     "text": [
      "9\n"
     ]
    }
   ],
   "source": [
    "def trap(height):\n",
    "    if not height:\n",
    "        return 0\n",
    "\n",
    "    n = len(height)\n",
    "    left, right = 0, n - 1\n",
    "    height_left_max, height_right_max = height[0], height[n - 1]\n",
    "    water = 0\n",
    "\n",
    "    while left < right:\n",
    "        if height[left] < height[right]:\n",
    "            left += 1\n",
    "            height_left_max = max(height_left_max, height[left])\n",
    "            water += height_left_max - height[left]\n",
    "        else:\n",
    "            right -= 1\n",
    "            height_right_max = max(height_right_max, height[right])\n",
    "            water += height_right_max - height[right]\n",
    "\n",
    "    return water\n",
    "\n",
    "height = [4, 2, 0, 3, 2, 5]\n",
    "print(trap(height))\n",
    "\n",
    "# your algorithm time complexity is:O(n)"
   ]
  },
  {
   "cell_type": "markdown",
   "metadata": {},
   "source": [
    "## 问题 7 \n",
    "\n",
    "**股票投资组合优化**： 假设你是一位投资者，想要在不同的股票中分配你的资金，以最大化你的投资回报。每只股票都有不同的预期收益率和风险。你的目标是选择一些股票，使得总投资金额不超过你的预算，并且预期收益最大化。\n",
    "\n",
    "在这个情况下，你可以将每只股票视为一个“物品”，其重量为投资金额，价值为预期收益率。然后，你可以使用分级背包问题的方法来选择部分股票，以便在预算内获得最大的预期收益。\n",
    "\n",
    "以下是一个简化的例子：\n",
    "\n",
    "假设你有以下三只股票可供选择：\n",
    "\n",
    "1. 股票 A：投资金额 5000 美元，预期收益率 10%\n",
    "2. 股票 B：投资金额 3000 美元，预期收益率 8%\n",
    "3. 股票 C：投资金额 2000 美元，预期收益率 12%\n",
    "\n",
    "请设计算法找到最优投资方案，分析算法设计思路，计算时间复杂度，并基于python编程实现"
   ]
  },
  {
   "cell_type": "markdown",
   "metadata": {},
   "source": [
    "idea：首先我们需要将股票投资视为分数背包问题，允许部分投资，目的是为了在预算内使总收益最大化。使用贪心算法的策略，按照收益率从高到低排序依次尽可能多地投资高收益率的股票，直到预算没有了.\n",
    "\n",
    "时间复杂度：排序时间复杂度为O(nlogn)，遍历股票时间复杂度为O(n)，所以总时间复杂度为O(nlogn)"
   ]
  },
  {
   "cell_type": "code",
   "execution_count": 1,
   "metadata": {},
   "outputs": [
    {
     "name": "stdout",
     "output_type": "stream",
     "text": [
      "最大预期收益：640.00 美元\n",
      "投资方案：\n",
      "股票 C：投资金额 2000 美元，预期收益 240.00 美元\n",
      "股票 A：投资金额 4000 美元，预期收益 400.00 美元\n"
     ]
    }
   ],
   "source": [
    "def optimal_investment(stocks, budget):\n",
    "    stocks = [(name, amount, rate, rate) for name, amount, rate in stocks]\n",
    "\n",
    "    stocks.sort(key=lambda x: x[3], reverse=True)\n",
    "\n",
    "    total_profit = 0\n",
    "    investment_plan = []\n",
    "    remaining_budget = budget\n",
    "\n",
    "    for name, amount, rate_percent, _ in stocks:\n",
    "        if remaining_budget <= 0:\n",
    "            break\n",
    "        invest_amount = min(amount, remaining_budget)\n",
    "        profit = invest_amount * rate_percent\n",
    "        investment_plan.append((name, invest_amount, profit))\n",
    "        total_profit += profit\n",
    "        remaining_budget -= invest_amount\n",
    "\n",
    "    return total_profit, investment_plan\n",
    "\n",
    "\n",
    "stocks = [\n",
    "    (\"A\", 5000, 0.10),\n",
    "    (\"B\", 3000, 0.08),\n",
    "    (\"C\", 2000, 0.12)\n",
    "]\n",
    "budget = 6000\n",
    "total_profit, investment_plan = optimal_investment(stocks, budget)\n",
    "print(f\"最大预期收益：{total_profit:.2f} 美元\")\n",
    "print(\"投资方案：\")\n",
    "for name, amount, profit in investment_plan:\n",
    "    print(f\"股票 {name}：投资金额 {amount} 美元，预期收益 {profit:.2f} 美元\")\n",
    "# your algorithm time complexity is:O(nlogn)"
   ]
  },
  {
   "cell_type": "markdown",
   "metadata": {},
   "source": [
    "## 问题 8\n",
    "\n",
    "给你二叉搜索树的根节点 root ，该树中的恰好两个节点的值被错误地交换。请在不改变其结构的情况下，恢复这棵树 。设计算法解决该问题，分析算法设计思路，计算时间复杂度，并基于python编程实现\n",
    "\n",
    "e.g.:\n",
    "---\n",
    "1.\n",
    "\n",
    "<div style=\"text-align:center;width:200px;\"> <img alt=\"\" src=\"./fig/hw3q9-1.jpg\"> </div>\n",
    "输入：root = [1,3,null,null,2]， 输出为：[3,1,null,null,2]， \n",
    "\n",
    "解释：3 不能是 1 的左孩子，因为 3 > 1 。交换 1 和 3 使二叉搜索树有效。\n",
    "\n",
    "2.\n",
    "\n",
    " <div style=\"text-align:center;width:200px;\"> <img alt=\"\" src=\"./fig/hw3q9-1.jpg\"> </div>\n",
    "输入： root=[3,1,4,null,null,2]， 输出为：[2,1,4,null,null,3]\n",
    "\n",
    "解释：2 不能在 3 的右子树中，因为 2 < 3 。交换 2 和 3 使二叉搜索树有效。"
   ]
  },
  {
   "cell_type": "markdown",
   "metadata": {},
   "source": [
    "idea：定义一个二叉树的节点类，包含该节点的值，以及其左右节点。\n",
    "然后定义一个中序遍历函数,按照左根右来收集二叉搜索树中的所有节点，然后定义一个函数recover_bst，先调用所有节点，找到第一个错误的节点，该节点大于后续节点，再找到第二个以后交换他们。然后定义一个构建二叉树的函数，利用数组索引来构建树。最后我们通过tree_to_list函数将构建好的二叉树通过层次遍历转换回列表。\n",
    "\n",
    "时间复杂度：中序遍历，查找，交换错误节点都是O(n),所以时间复杂度为O(n)"
   ]
  },
  {
   "cell_type": "code",
   "execution_count": 5,
   "metadata": {},
   "outputs": [
    {
     "name": "stdout",
     "output_type": "stream",
     "text": [
      "输出1: [3, 1, None, None, 2]\n",
      "输出2: [2, 1, 4, None, None, 3]\n"
     ]
    }
   ],
   "source": [
    "from typing import Optional, List\n",
    "from collections import deque\n",
    "\n",
    "\n",
    "class TreeNode:\n",
    "    def __init__(self, val=0, left=None, right=None):\n",
    "        self.val = val\n",
    "        self.left = left\n",
    "        self.right = right\n",
    "\n",
    "\n",
    "def swap(root: Optional[TreeNode]) -> None:\n",
    "    nodes = []\n",
    "\n",
    "    def _inorder(node):\n",
    "        if not node:\n",
    "            return\n",
    "        _inorder(node.left)\n",
    "        nodes.append(node)\n",
    "        _inorder(node.right)\n",
    "    _inorder(root)\n",
    "\n",
    "    first = second = None\n",
    "    for i in range(len(nodes) - 1):\n",
    "        if nodes[i].val > nodes[i + 1].val:\n",
    "            second = nodes[i + 1]\n",
    "            if not first:\n",
    "                first = nodes[i]\n",
    "            else:\n",
    "                second = nodes[i + 1]\n",
    "\n",
    "    if first and second:\n",
    "        first.val, second.val = second.val, first.val\n",
    "\n",
    "\n",
    "def create(values: List[Optional[int]]) -> Optional[TreeNode]:\n",
    "    if not values or values[0] is None:\n",
    "        return None\n",
    "\n",
    "    def build(i: int) -> Optional[TreeNode]:\n",
    "        if i >= len(values) or values[i] is None:\n",
    "            return None\n",
    "        node = TreeNode(values[i])\n",
    "        node.left = build(2 * i + 1)\n",
    "        node.right = build(2 * i + 2)\n",
    "        return node\n",
    "    root = build(0)\n",
    "    return root\n",
    "\n",
    "def to_array(root: Optional[TreeNode]) -> List[Optional[int]]:\n",
    "    if not root:\n",
    "        return []\n",
    "    result = []\n",
    "    queue = deque([root])\n",
    "\n",
    "    while queue:\n",
    "        node = queue.popleft()\n",
    "        if node:\n",
    "            result.append(node.val)\n",
    "            queue.append(node.left)\n",
    "            queue.append(node.right)\n",
    "        else:\n",
    "            result.append(None)\n",
    "\n",
    "    while result and result[-1] is None:\n",
    "        result.pop()\n",
    "\n",
    "    return result\n",
    "\n",
    "\n",
    "\n",
    "input1 = [1, 3, None, None, 2]\n",
    "root1 = create(input1)\n",
    "swap(root1)\n",
    "print(\"输出1:\", to_array(root1))\n",
    "\n",
    "input2 = [3, 1, 4, None, None, 2]\n",
    "root2 = create(input2)\n",
    "swap(root2)\n",
    "print(\"输出2:\", to_array(root2))\n",
    "\n",
    "# your algorithm time complexity is:O(n)"
   ]
  },
  {
   "cell_type": "markdown",
   "metadata": {},
   "source": [
    "## 问题 9  \n",
    "\n",
    "给你一个二叉树的根节点 root ，树中每个节点都存放有一个 0 到 9 之间的数字。每条从根节点到叶节点的路径都代表一个数字：\n",
    "\n",
    "> 例如，从根节点到叶节点的路径 1 -> 2 -> 3 表示数字 123 。\n",
    "\n",
    "设计一个算法计算从根节点到叶节点生成的所有数字之和 ，分析算法设计思路，计算时间复杂度，并基于python编程实现\n",
    "\n",
    "叶节点:是指没有子节点的节点。\n",
    "\n",
    "e.g.:\n",
    "---\n",
    "1.\n",
    "\n",
    " <div style=\"text-align:center;width:200px;\"> <img alt=\"figure\" src=\"./fig/hw3q10-1.jpg\"> </div>\n",
    "\n",
    " 输入：root = [1,2,3], 输出：25\n",
    "\n",
    "解释：从根到叶子节点路径 1->2 代表数字 12，1->3 代表数字 13，因此和为 12 + 13 = 25 。\n",
    "\n",
    "2.\n",
    "\n",
    " <div style=\"text-align:center;width:200px;\"> <img alt=\"figure\" src=\"./fig/hw3q10-2.jpg\"> </div>\n",
    "\n",
    " 输入：root = [4,9,0,5,1], 输出：1026\n",
    "\n",
    "解释：从根到叶子节点路径 4->9->5 代表数字 495，4->9->1 代表数字 491，4->0 代表数字 40。因此和为 495 + 491 + 40 = 1026 。"
   ]
  },
  {
   "cell_type": "markdown",
   "metadata": {},
   "source": [
    "idea：定义一个二叉树的节点类，包含该节点的值，以及其左右节点。\n",
    "构建一个二叉树，如果数组为空则返回，如果不为空就去创建节点，然后计算从根节点到叶节点生成的所有数字之和。这里要求的数字之和首先需要递归的调用构建数的函数进行创建节点，其中层数i左孩子节点为2*i+1，右孩子节点为2*i+2，找到所有的节点来构建二叉树以便于后续给每一个节点找到val值。最后计算从根节点到叶节点生成的所有数字之和，定义一个嵌套的递归函数来进行深度优先搜索，如果是叶节点则返回，以此递归划分左右子树进行求和即可。"
   ]
  },
  {
   "cell_type": "code",
   "execution_count": 2,
   "metadata": {},
   "outputs": [
    {
     "name": "stdout",
     "output_type": "stream",
     "text": [
      "25\n",
      "1026\n"
     ]
    }
   ],
   "source": [
    "class TreeNode:\n",
    "    def __init__(self, val=0, left=None, right=None):\n",
    "        self.val = val\n",
    "        self.left = left\n",
    "        self.right = right\n",
    "\n",
    "def buildTree(nums):\n",
    "    if not nums:\n",
    "        return None\n",
    "    def build(i):\n",
    "        if i >= len(nums) or nums[i] is None:\n",
    "            return None\n",
    "        node = TreeNode(nums[i])\n",
    "        node.left = build(2 * i + 1)\n",
    "        node.right = build(2 * i + 2)\n",
    "        return node\n",
    "\n",
    "    return build(0)\n",
    "\n",
    "def sumNumbers(root):\n",
    "    def dfs(node, current_number):\n",
    "        if not node:\n",
    "            return 0\n",
    "        current_number = current_number * 10 + node.val\n",
    "        if not node.left and not node.right:\n",
    "            return current_number\n",
    "        left_sum = dfs(node.left, current_number)\n",
    "        right_sum = dfs(node.right, current_number)\n",
    "        return left_sum + right_sum\n",
    "\n",
    "    return dfs(root, 0)\n",
    "\n",
    "nums = [1, 2, 3]\n",
    "root = buildTree(nums)\n",
    "result = sumNumbers(root)\n",
    "print(result)\n",
    "\n",
    "nums = [4, 9, 0, 5, 1]\n",
    "root = buildTree(nums)\n",
    "result = sumNumbers(root)\n",
    "print(result)\n",
    "# your algorithm time complexity is:0(n)"
   ]
  },
  {
   "cell_type": "markdown",
   "metadata": {},
   "source": [
    "## 问题 10  \n",
    "\n",
    "给你一个二叉树的根节点 root ， 检查它是否轴对称。\n",
    "\n",
    "1. 分析算法设计思路，计算时间复杂度，并基于python编程实现\n",
    "2. \\* 设计使用递归和迭代两种方法解决这个问题，计算时间复杂度，并基于python编程实现\n",
    "\n",
    "e.g.:\n",
    "---\n",
    "1.\n",
    "\n",
    " <div style=\"text-align:center;width:200px;\"> <img alt=\"figure\" src=\"./fig/hw3q11-1.png\"> </div>\n",
    "\n",
    " 输入：root = [1,2,2,3,4,4,3]， 输出：true\n",
    "\n",
    "解释：二叉树 [1,2,2,3,4,4,3] 对称。\n",
    "\n",
    "2.\n",
    "\n",
    " <div style=\"text-align:center;width:200px;\"> <img alt=\"figure\" src=\"./fig/hw3q11-2.png\"> </div>\n",
    "\n",
    " 输入：root = [1,2,2,null,3,null,3]， 输出：false"
   ]
  },
  {
   "cell_type": "markdown",
   "metadata": {},
   "source": [
    "idea:定义一个二叉树的节点类，包含该节点的值，以及其左右节点。设计一个构建二叉树的函数，列表用来存储每一个节点的值。如果列表为空，则返回表示没有树。再在内部用build函数递归的构建树，左节点索引2*i+1，右节点索引2*i+2。用函数来检查是否轴对称，先判断树是否为空，不为空再递归的检查两个子树是否为镜像，如果有空或者不相等返回False，反之再继续递归的检查两个子树是否为镜像，以此类推即可。\n",
    "\n",
    "时间复杂度：构建二叉树时时间复杂度为O(n)，检查是否对称，最坏情况下每个节点都被访问两次也是O(n),所以总的O(n)"
   ]
  },
  {
   "cell_type": "code",
   "execution_count": 3,
   "metadata": {},
   "outputs": [
    {
     "name": "stdout",
     "output_type": "stream",
     "text": [
      "输出1: True\n",
      "输出2: False\n"
     ]
    }
   ],
   "source": [
    "from typing import Optional, List\n",
    "\n",
    "class TreeNode:\n",
    "    def __init__(self, val=0, left=None, right=None):\n",
    "        self.val = val\n",
    "        self.left = left\n",
    "        self.right = right\n",
    "\n",
    "def build_tree(values: List[Optional[int]]) -> Optional[TreeNode]:\n",
    "    if not values or values[0] is None:\n",
    "        return None\n",
    "\n",
    "    def build(i: int) -> Optional[TreeNode]:\n",
    "        if i >= len(values) or values[i] is None:\n",
    "            return None\n",
    "        node = TreeNode(values[i])\n",
    "        node.left = build(2 * i + 1)\n",
    "        node.right = build(2 * i + 2)\n",
    "        return node\n",
    "\n",
    "    root = build(0)\n",
    "    return root\n",
    "\n",
    "def isSymmetric(root: Optional[TreeNode]) -> bool:\n",
    "    if not root:\n",
    "        return True\n",
    "\n",
    "    def is_mirror(t1, t2):\n",
    "        if not t1 and not t2:\n",
    "            return True\n",
    "        if not t1 or not t2:\n",
    "            return False\n",
    "        if t1.val != t2.val:\n",
    "            return False\n",
    "\n",
    "        return is_mirror(t1.left, t2.right) and is_mirror(t1.right, t2.left)\n",
    "    return is_mirror(root.left, root.right)\n",
    "\n",
    "input_tree1 = [1, 2, 2, 3, 4, 4, 3]\n",
    "root1 = build_tree(input_tree1)\n",
    "result1 = isSymmetric(root1)\n",
    "print(\"输出1:\", result1)\n",
    "\n",
    "input_tree2 = [1, 2, 2, None, 3, None, 3]\n",
    "root2 = build_tree(input_tree2)\n",
    "result2 = isSymmetric(root2)\n",
    "print(\"输出2:\", result2)\n",
    "\n",
    "# your algorithm time complexity is:O(n)"
   ]
  },
  {
   "cell_type": "markdown",
   "metadata": {},
   "source": [
    "## 问题 11  \n",
    "\n",
    "给你一个由 '1'（陆地）和 '0'（水）组成的的二维网格，请你计算网格中岛屿的数量。岛屿总是被水包围，并且每座岛屿只能由水平方向和/或竖直方向上相邻的陆地连接形成。\n",
    "\n",
    "此外，你可以假设该网格的四条边均被水包围。\n",
    "\n",
    "分析算法设计思路，计算时间复杂度，并基于python编程实现\n",
    "\n",
    "e.g.:\n",
    "---\n",
    "1.\n",
    "输入：grid = [\n",
    "\n",
    "    [\"1\",\"1\",\"1\",\"1\",\"0\"],\n",
    "\n",
    "    [\"1\",\"1\",\"0\",\"1\",\"0\"], \n",
    "\n",
    "    [\"1\",\"1\",\"0\",\"0\",\"0\"], \n",
    "\n",
    "    [\"0\",\"0\",\"0\",\"0\",\"0\"]  \n",
    "\n",
    "]\n",
    "\n",
    "输出：1\n",
    "\n",
    "2.\n",
    "输入：grid = [\n",
    "\n",
    "    [\"1\",\"1\",\"0\",\"0\",\"0\"],\n",
    "\n",
    "    [\"1\",\"1\",\"0\",\"0\",\"0\"],\n",
    "\n",
    "    [\"0\",\"0\",\"1\",\"0\",\"0\"],\n",
    "\n",
    "    [\"0\",\"0\",\"0\",\"1\",\"1\"]\n",
    "\n",
    "]\n",
    "\n",
    "输出：3"
   ]
  },
  {
   "cell_type": "markdown",
   "metadata": {},
   "source": [
    "idea:要计算网格中岛屿数量可以通过深度优先搜索，遍历一下网格中的每一个点，如果该点为1，那就是岛屿中的一部分，并且将其数量加1，并且把该点改成0来表示该岛屿已经被访问过了，以此类推继续访问所有没有被访问的节点，一直重复直到所有节点被访问完毕。\n",
    "\n",
    "时间复杂度：再最坏的情况下，每一个点都要被遍历，如果网格为m行n列，那么对于深度优先在列举的两个示例中是4次，那么时间复杂度就是4*(m*n),所以可以简化为O(m*n)。"
   ]
  },
  {
   "cell_type": "code",
   "execution_count": 4,
   "metadata": {},
   "outputs": [
    {
     "name": "stdout",
     "output_type": "stream",
     "text": [
      "1\n",
      "3\n"
     ]
    }
   ],
   "source": [
    "from typing import List\n",
    "\n",
    "class Solution:\n",
    "    def numIslands(self, grid: List[List[str]]) -> int:\n",
    "        if not grid:\n",
    "            return 0\n",
    "\n",
    "        rows, cols = len(grid), len(grid[0])\n",
    "        self.count = 0\n",
    "\n",
    "        def dfs(r, c):\n",
    "            if r < 0 or r >= rows or c < 0 or c >= cols or grid[r][c] == '0':\n",
    "                return\n",
    "            grid[r][c] = '0'\n",
    "            dfs(r + 1, c)\n",
    "            dfs(r - 1, c)\n",
    "            dfs(r, c + 1)\n",
    "            dfs(r, c - 1)\n",
    "\n",
    "        for r in range(rows):\n",
    "            for c in range(cols):\n",
    "                if grid[r][c] == '1':\n",
    "                    dfs(r, c)\n",
    "                    self.count += 1\n",
    "\n",
    "        return self.count\n",
    "\n",
    "\n",
    "grid1 = [\n",
    "    [\"1\", \"1\", \"1\", \"1\", \"0\"],\n",
    "    [\"1\", \"1\", \"0\", \"1\", \"0\"],\n",
    "    [\"1\", \"1\", \"0\", \"0\", \"0\"],\n",
    "    [\"0\", \"0\", \"0\", \"0\", \"0\"]\n",
    "]\n",
    "grid2 = [\n",
    "    [\"1\", \"1\", \"0\", \"0\", \"0\"],\n",
    "    [\"1\", \"1\", \"0\", \"0\", \"0\"],\n",
    "    [\"0\", \"0\", \"1\", \"0\", \"0\"],\n",
    "    [\"0\", \"0\", \"0\", \"1\", \"1\"]\n",
    "]\n",
    "\n",
    "solution = Solution()\n",
    "print(solution.numIslands(grid1))\n",
    "print(solution.numIslands(grid2))\n",
    "# your algorithm time complexity is:O(m*n)"
   ]
  },
  {
   "cell_type": "code",
   "execution_count": null,
   "outputs": [],
   "source": [],
   "metadata": {
    "collapsed": false,
    "pycharm": {
     "name": "#%%\n"
    }
   }
  },
  {
   "cell_type": "code",
   "execution_count": null,
   "outputs": [],
   "source": [],
   "metadata": {
    "collapsed": false,
    "pycharm": {
     "name": "#%%\n"
    }
   }
  },
  {
   "cell_type": "code",
   "execution_count": null,
   "metadata": {},
   "outputs": [],
   "source": []
  },
  {
   "cell_type": "code",
   "execution_count": null,
   "metadata": {},
   "outputs": [],
   "source": []
  }
 ],
 "metadata": {
  "kernelspec": {
   "display_name": "Python 3 (ipykernel)",
   "language": "python",
   "name": "python3"
  },
  "language_info": {
   "codemirror_mode": {
    "name": "ipython",
    "version": 3
   },
   "file_extension": ".py",
   "mimetype": "text/x-python",
   "name": "python",
   "nbconvert_exporter": "python",
   "pygments_lexer": "ipython3",
   "version": "3.8.0"
  }
 },
 "nbformat": 4,
 "nbformat_minor": 4
}